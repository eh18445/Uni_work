{
 "cells": [
  {
   "cell_type": "markdown",
   "metadata": {},
   "source": [
    "# Assignment 2 - Monte Carlo\n",
    "\n",
    "In this assignment, you will develop a model of experimental outcomes which you will use to interpret the results of an experiment.\n",
    "\n",
    "In each part of this assignment, you will be asked to write some code in the cell indicated.  If you find it convenient to break your code up over multiple cells, please do so.  You will also be asked to briefly discuss your code and results obtained in a text cell.\n",
    "\n",
    "You should use numpy and scipy libraries where appropriate. You will always be told explicitly if you should **not** use a particular library.  Make sure to comment your code.  Make sure all cells run from a freshly opened notebook before you submit your work."
   ]
  },
  {
   "cell_type": "markdown",
   "metadata": {},
   "source": [
    "## Part 1 - Generating a Gaussian Distribution\n",
    "\n",
    "In this part of the assignment, we will explore a method for generating random numbesr with a Gaussian probability distribution function.\n",
    "\n",
    "$$ f(x|\\mu) = \\frac{1}{\\lambda \\sqrt{2 \\pi}}e^\\frac{-(x-\\mu)^2}{2\\lambda^2}$$\n",
    "\n",
    "Unfortunately the Gaussian cumulative distribution function is not analytically invertible. However, there are a number of alternative transformations in use. One such example is the Box-Muller transformation, which relies on generating _two_ random numbers, $u$ and $v$, each in the range $(0,1)$. It can then be shown that :\n",
    "\n",
    "$$z = \\sqrt{-2\\ln{u}} \\cos{2 \\pi v}$$\n",
    "\n",
    "has a Gaussian distribution with mean $\\mu=0$ and standard deviation $\\lambda=1$.\n",
    "\n",
    "You should implement a function that will generate random values, distributed according to a Gaussian with user-definable mean $\\mu$ and standard deviation $\\lambda$ (ie. set via arguments).  You should verify that your function does indeed produce a Gaussian distribution for a selection of $\\mu$ and $\\lambda$."
   ]
  },
  {
   "cell_type": "code",
   "execution_count": 2,
   "metadata": {},
   "outputs": [
    {
     "data": {
      "image/png": "[encoded data removed]",
      "text/plain": [
       "<Figure size 432x288 with 1 Axes>"
      ]
     },
     "metadata": {
      "needs_background": "light"
     },
     "output_type": "display_data"
    }
   ],
   "source": [
    "import numpy.random as random\n",
    "import matplotlib.pyplot as plt\n",
    "import numpy as np\n",
    "\n",
    "def random_normal(mean,sd,count):\n",
    "    \n",
    "    u = random.random(count)\n",
    "    v = random.random(count)\n",
    "    \n",
    "    x = box_muller(u,v)*sd + mean\n",
    "    \n",
    "    return x\n",
    "\n",
    "def box_muller(u,v):\n",
    "    \n",
    "    z = (-2*np.log(u))**(0.5)*np.cos(2*np.pi*v)\n",
    "\n",
    "    return z\n",
    "\n",
    "def normal(mean,sd,x):\n",
    "    \n",
    "    f = (sd*(2*np.pi)**0.5)**-1*np.exp(-0.5*((x-mean)/sd)**2)\n",
    "    \n",
    "    return f   \n",
    "\n",
    "#input values\n",
    "mean = 0\n",
    "sd = 1\n",
    "count = 10000\n",
    "\n",
    "#random value gaussian distribution\n",
    "norm = random_normal(mean,sd,count)\n",
    "hist1, bins1, patches1 = plt.hist(norm, bins=50, density=True, label=\"Analytic Method\")\n",
    "\n",
    "#gaussian equation as reference\n",
    "bin_centres = (bins1[1:] + bins1[:-1])\n",
    "plt.plot(bin_centres, normal(mean,sd,bin_centres), label=\"gaussian refernece\")\n",
    "\n",
    "plt.legend()\n",
    "plt.show()"
   ]
  },
  {
   "cell_type": "code",
   "execution_count": null,
   "metadata": {},
   "outputs": [],
   "source": [
    "#I have produced a gaussian distribution using the box-muller transfomation with random numbers assigned to u and v.\n",
    "#The distribution accurately fits a gaussian function shown on the graph as reference.\n",
    "#This function works if the input values for the mean and standard deviation are changed."
   ]
  },
  {
   "cell_type": "markdown",
   "metadata": {},
   "source": [
    "**Discuss your results in this cell**"
   ]
  },
  {
   "cell_type": "markdown",
   "metadata": {},
   "source": [
    "## Part 2 - Upper Limit in a Counting Experiment\n",
    "\n",
    "A \"counting experiment\" is performed at a collider, to search for the existence of a hypothesised new particle.  The experiment consists of counting the number of events that meet certain criteria. Events can be produced either by the hypothetical signal process, or by known background processes. However, an individual event cannot be ascribed to be signal or background - the only measurable quantity is the _total_ number of events.\n",
    "\n",
    "Both signal and background processes produce a number of events that is Poisson distributed. The mean number of background events has been estimated to be $4.8 \\pm 0.5$.  The mean number of signal events is given by $L \\sigma$, where the integrated luminosity $L=10 \\pm 0.3 {\\rm nb}^{-1}$, and $\\sigma$ is the (unknown) cross section of the signal process. The number of events observed in the real experiment is 6.\n",
    "\n",
    "You should write a Monte Carlo programme that will calculate an upper limit on the signal cross section, that is compatible with the observation at 95% confidence level.  In order to do this you will need to :\n",
    "* build a model of the experiment and its uncertainties that you can use to generate pseudo-experiments\n",
    "* model signal and background as separate Poisson processes\n",
    "* model all other uncertainties as Gaussian distributed\n",
    "* scan hypotheses for $\\sigma$ and generate probability distributions for the observed event counts for each hypothesis\n",
    "* compare the PDFs of observed event counts, with the real experiment, to find the upper limit on $\\sigma$\n",
    "\n",
    "An upper limit is a one-sided confidence interval, since the lower bound is always zero.  It differs from a two-sided confidence interval, where an equal fraction of pseudo experiments are found above and below the interval.  The upper limit can be defined as the value of $\\sigma$ for which 95% of pseudo-experiments give a result greater than that observed in the real experiment.\n",
    "\n",
    "First use your model to calculate the upper limit on $\\sigma$ that can be inferred from the real experiment, in which 6 events were observed.\n",
    "\n",
    "Next, consider that a theoretical prediction gives $\\sigma = 0.1 {\\rm nb}$.  What integrated luminosity would need to be accumulated in order to probe this cross-section at the 95% confidence level?  Assume the mean background scales linearly with luminosity.  You should also calculate an \"expected upper limit\", which is the limit obtained if the number of observed events equals the mean background.  Perform the calculation for two different assumptions about the uncertainties : \n",
    "1. a conservative assumption that the relative uncertainty is fixed (as given above)\n",
    "2. an optimistic assumption that the relative uncertainty will scale proportional to $L^{-1/2}$"
   ]
  },
  {
   "cell_type": "code",
   "execution_count": 14,
   "metadata": {},
   "outputs": [
    {
     "data": {
      "image/png": "[encoded data removed]",
      "text/plain": [
       "<Figure size 432x288 with 1 Axes>"
      ]
     },
     "metadata": {
      "needs_background": "light"
     },
     "output_type": "display_data"
    }
   ],
   "source": [
    "def poissonPDF(mu, nexpt, nbins, pdf_range):\n",
    "    #nexpt is the no. of pseudo experiments\n",
    "    #nbins is the no. of bins in the histogram \n",
    "    #mu is the mean\n",
    "    \n",
    "    results = random.poisson(mu, nexpt)\n",
    "    hist, bins = np.histogram(results, nbins, pdf_range)\n",
    "    return hist/nexpt, bins\n",
    "\n",
    "\n",
    "#poisson distribution\n",
    "hist, bins = poissonPDF(4.8, 10000, 200, [0, 20])\n",
    "plt.hist(bins[:-1], bins, weights=hist, label='pdf')\n",
    "plt.show()\n",
    "\n"
   ]
  },
  {
   "cell_type": "markdown",
   "metadata": {},
   "source": [
    "**Discuss your results in this cell**"
   ]
  },
  {
   "cell_type": "code",
   "execution_count": null,
   "metadata": {},
   "outputs": [],
   "source": [
    "#I did not finish this part of the assigment as I ran out of time.\n",
    "\n",
    "#What I have produced above are models for the background process modelled as a poisson distribution.\n",
    "\n"
   ]
  }
 ],
 "metadata": {
  "kernelspec": {
   "display_name": "Python 3 (ipykernel)",
   "language": "python",
   "name": "python3"
  },
  "language_info": {
   "codemirror_mode": {
    "name": "ipython",
    "version": 3
   },
   "file_extension": ".py",
   "mimetype": "text/x-python",
   "name": "python",
   "nbconvert_exporter": "python",
   "pygments_lexer": "ipython3",
   "version": "3.10.9"
  }
 },
 "nbformat": 4,
 "nbformat_minor": 2
}
