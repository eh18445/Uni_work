{
 "cells": [
  {
   "cell_type": "markdown",
   "metadata": {},
   "source": [
    "# Matrix Inversion\n",
    "\n",
    "In this notebook, we will explore the following topics:\n",
    "* Solving simultaneous equations\n",
    "* Recursion\n",
    "* Writing robust functions\n",
    "* Good testing practise\n",
    "* A real physics example\n",
    "\n",
    "## Introduction\n",
    "\n",
    "Many problems in physics require solving simultaneous equations. When these become large and complex, numerical routines are required.\n",
    "\n",
    "A set of simultaneous equations can always be written in matrix form, for example, two equations in two unknowns ($x_1$ and $x_2$)\n",
    "\n",
    "$$ax_1 + bx_2 = y_1$$\n",
    "$$cx_1 + dx_2 = y_2$$\n",
    "\n",
    "can be rewritten as\n",
    "\n",
    "$$\\left(\\begin{array}{cc} a & b \\\\ c & d\\end{array}\\right)\n",
    "\\left(\\begin{array}{c} x_1 \\\\ x_2 \\end{array}\\right) = \n",
    "\\left(\\begin{array}{c} y_1 \\\\ y_2 \\end{array}\\right)$$\n",
    "\n",
    "An arbitrary set of equations is\n",
    "\n",
    "$$Ax = y$$\n",
    "\n",
    "where A is the matrix of coefficients, x is the vector of unknown variables $x_1$, $x_2$, ...\n",
    "and b is the known vector of constants.\n",
    "\n",
    "## Matrix Inversion\n",
    "\n",
    "One way to solve the above equation is to multiply both sides by the inverse of A:\n",
    "\n",
    "$$A^{-1} A x = A^{-1} y$$\n",
    "\n",
    "giving :\n",
    "\n",
    "$$x = A^{-1} y$$\n",
    "\n",
    "There are many ways to find the inverse of a matrix.  You should be familiar with Cramer's rule for a general square matrix :\n",
    "\n",
    "$$A^{-1} = \\frac{1}{\\det{A}}C^T$$\n",
    "\n",
    "where C is the matrix of cofactors of A (or equivalently $C^T$ is the adjugate of A).\n",
    "\n",
    "If we know the order (number of dimensions) of the input matrix in advance, we could do the algebra to find a formula in terms of the matrix elements. Eg we can write the function to find the inverse of a $2\\times2$ matrix :"
   ]
  },
  {
   "cell_type": "code",
   "execution_count": 1,
   "metadata": {},
   "outputs": [],
   "source": [
    "import numpy as np\n",
    "import math\n",
    "\n",
    "def det2x2(m):\n",
    "    if m.shape[0] != 2 or m.shape[1] != 2:\n",
    "        raise Exception(\"Non2x2Matrix\")\n",
    "    \n",
    "    return ( m[0][0]*m[1][1] ) - ( m[0][1]*m[1][0] )\n",
    "\n",
    "def inverse2x2(m):\n",
    "    if m.shape[0] != 2 or m.shape[1] != 2:\n",
    "        raise Exception(\"Non2x2Matrix\")\n",
    "\n",
    "    det = det2x2(m)\n",
    "    tmp = np.empty([2,2])\n",
    "    tmp[0][0] = m[1][1] / det\n",
    "    tmp[0][1] = -1 * m[0][1] / det\n",
    "    tmp[1][0] = -1 * m[1][0] / det\n",
    "    tmp[1][1] = m[0][0] / det\n",
    "    return tmp"
   ]
  },
  {
   "cell_type": "markdown",
   "metadata": {},
   "source": [
    "Note that the first thing we do, in both functions, is to check that the function has been called with a $2\\times2$ matrix.  An exception is thrown if the function is called with anything else, which will make it easier to debug problems later.\n",
    "\n",
    "We could expand this approach to $3\\times3$ and $4\\times4$ matrices, but clearly that will get complicated (and error prone) pretty quickly.\n",
    "\n",
    "Instead, if we had methods to calculate the determinant and adjugate of a general square matrix, we could just do something like :"
   ]
  },
  {
   "cell_type": "code",
   "execution_count": 2,
   "metadata": {},
   "outputs": [],
   "source": [
    "def inverse(m):\n",
    "    d = det(m)        \n",
    "    c = adj(m)\n",
    "    return np.true_divide(c,d)"
   ]
  },
  {
   "cell_type": "markdown",
   "metadata": {},
   "source": [
    "First, let's look at how we would write the `det()` function.  We will use the Laplace expansion :\n",
    "\n",
    "\\begin{equation}\n",
    "\\det{A} = \\Sigma^n_{j=1} (-1)^{i_0+j} a_{i_0j} \\det{M_{i_0j}}\n",
    "\\end{equation}\n",
    "\n",
    "Where $i_0$ indicates a particular row of the matrix, and $M_{ij}$ is the sub-matrix obtained by removing row i and column j of the original matrix A.\n",
    "\n",
    "For a $3 \\times 3$ matrix, this becomes :\n",
    "\n",
    "\\begin{equation*}\n",
    "\\begin{vmatrix}\n",
    "a && b && c \\\\\n",
    "d && e && f \\\\\n",
    "g && h && i\n",
    "\\end{vmatrix}\n",
    "=\n",
    "a \\begin{vmatrix}\n",
    "e && f \\\\\n",
    "h && i\n",
    "\\end{vmatrix}\n",
    "-b \\begin{vmatrix}\n",
    "d && f \\\\\n",
    "g && i\n",
    "\\end{vmatrix}\n",
    "+\n",
    "c \\begin{vmatrix}\n",
    "d && e \\\\\n",
    "g && h\n",
    "\\end{vmatrix}\n",
    "\\end{equation*}\n",
    "\n",
    "Note that the RHS involves the determinant of several $(n-1) \\times (n-1)$ sub-matrices.  This tells us a _recursive_ algorithm can be used to find the determinant.  When finding the determinant of a $4\\times4$ matrix, say, we must find determinants of $3\\times3$ sub-matrices, and consequently their $2\\times2$ sub-matrices.  In programming terms, this means we will write one `det()` function, which will include a call to itself. This is an extremely powerful concept in programming and numerical methods.\n",
    "\n",
    "In addition, as we will see below, the adjugate also depends on sub-matrices.  So it also makes sense to write a function that will find the $(i,j)^{th}$ sub-matrix of a general square matrix. Again, the first thing we do is check that the argument given to the function is suitable for further processing and bail out if it isn't."
   ]
  },
  {
   "cell_type": "code",
   "execution_count": 3,
   "metadata": {},
   "outputs": [],
   "source": [
    "def submatrix(m,i,j):\n",
    "    if not (m.shape[0] == m.shape[1]):\n",
    "        raise Exception(\"NonSquareMatrix\")\n",
    "    \n",
    "    # create a new matrix\n",
    "    n = m.shape[0]-1\n",
    "    tmp = np.empty([n,n])\n",
    "    \n",
    "    # get the indices of the matrix that will be used\n",
    "    tmpi = list(range(m.shape[0]))\n",
    "    del tmpi[i]\n",
    "    tmpj = list(range(m.shape[1]))\n",
    "    del tmpj[j]\n",
    "    \n",
    "    for ii in range(n):\n",
    "        for jj in range(n):\n",
    "            tmp[ii][jj] = m[tmpi[ii]][tmpj[jj]]\n",
    "\n",
    "    return tmp"
   ]
  },
  {
   "cell_type": "markdown",
   "metadata": {},
   "source": [
    "Now we can write the `det()` function using Laplace expansion above, and taking $i_0 = 0$."
   ]
  },
  {
   "cell_type": "code",
   "execution_count": 2,
   "metadata": {},
   "outputs": [],
   "source": [
    "def det(m):\n",
    "    if not (m.shape[0] == m.shape[1]):\n",
    "        raise Exception(\"NonSquareMatrix\")\n",
    "    \n",
    "    if (m.shape[0]==2):\n",
    "        return det2x2(m)\n",
    "        \n",
    "    else:\n",
    "        tmp = 0\n",
    "        # use 0-th row to calculate determinant\n",
    "        for j in range(m.shape[0]):\n",
    "            tmp = tmp + (math.pow(-1,j) * m[0][j] * det(submatrix(m,0,j)))\n",
    "    \n",
    "    return tmp"
   ]
  },
  {
   "cell_type": "markdown",
   "metadata": {},
   "source": [
    "Next we need the adjugate function `adj()`.  The adjugate is given by :\n",
    "\n",
    "\\begin{equation}\n",
    "{\\rm adj}A = ((-1)^{i+j}M_{ji}\n",
    "\\end{equation}\n",
    "\n",
    "Note the ordering of sub-matrix indices!  Getting this wrong is a classic way to introduce an annoying bug where the program runs normally and produces results, but they are completely incorrect."
   ]
  },
  {
   "cell_type": "code",
   "execution_count": 5,
   "metadata": {},
   "outputs": [],
   "source": [
    "def adj(m):\n",
    "    if not (m.shape[0] == m.shape[1]):\n",
    "        raise Exception(\"NonSquareMatrix\")\n",
    "    \n",
    "    tmp = np.empty(m.shape)\n",
    "    \n",
    "    for i in range(m.shape[0]):\n",
    "        for j in range(m.shape[1]):\n",
    "            # note the order of indices below !\n",
    "            tmp[j][i] = (math.pow(-1,i+j) * det(submatrix(m,i,j)))\n",
    "    return tmp"
   ]
  },
  {
   "cell_type": "markdown",
   "metadata": {},
   "source": [
    "Finally, we have everything we need for the inverse function. This time adding some protection against non-square matrices. "
   ]
  },
  {
   "cell_type": "code",
   "execution_count": 6,
   "metadata": {},
   "outputs": [],
   "source": [
    "def inverse(m):\n",
    "    if not (m.shape[0] == m.shape[1]):\n",
    "        raise Exception(\"NonSquareMatrix\")\n",
    "    \n",
    "    if m.shape[0]==2:\n",
    "        return inverse2x2(m)\n",
    "    \n",
    "    d = det(m)        \n",
    "    c = adj(m)\n",
    "    return np.true_divide(c,d)"
   ]
  },
  {
   "cell_type": "markdown",
   "metadata": {},
   "source": [
    "## Testing The Method\n",
    "\n",
    "We can test this function with a simple matrix, for which we know the inverse. For example,\n",
    "\n",
    "$$A = \n",
    "\\pmatrix{\n",
    "1 & 2 & 3 \\\\\n",
    "1 & 0 & 0 \\\\\n",
    "7 & 8 & 9}\n",
    "$$\n",
    "\n",
    "has the inverse\n",
    "\n",
    "$$A^{-1} = \n",
    "\\pmatrix{\n",
    "0 & 1 & 0 \\\\\n",
    "-\\frac{3}{2} & -2 & \\frac{1}{2} \\\\\n",
    "\\frac{4}{3} & 1 & -\\frac{1}{3}\n",
    "}\n",
    "$$\n"
   ]
  },
  {
   "cell_type": "code",
   "execution_count": 108,
   "metadata": {},
   "outputs": [
    {
     "name": "stdout",
     "output_type": "stream",
     "text": [
      "[[ 0.          1.          0.        ]\n",
      " [-1.5        -2.          0.5       ]\n",
      " [ 1.33333333  1.         -0.33333333]]\n"
     ]
    }
   ],
   "source": [
    "a = np.array([[1,2,3],[1,0,0],[7,8,9]])\n",
    "print(inverse(a))"
   ]
  },
  {
   "cell_type": "markdown",
   "metadata": {},
   "source": [
    "But this is just one case, and it's one we can solve analytically.  The whole point of using a numerical method here is to solve problems we _can't_ solve analytically, so this method of testing is quite limited.\n",
    "\n",
    "A better method is to devise a test method that works for an arbitrary matrix.  For example, we can use the identity to test if we really have found the inverse of our input matrix:\n",
    "\n",
    "$$A A^{-1} = I$$\n",
    "\n",
    "This kind of test is known as a 'closure test'.  It's good practise to put our test in a function which returns a boolean."
   ]
  },
  {
   "cell_type": "code",
   "execution_count": 109,
   "metadata": {},
   "outputs": [
    {
     "data": {
      "text/plain": [
       "(True, 2.220446049250313e-16)"
      ]
     },
     "execution_count": 109,
     "metadata": {},
     "output_type": "execute_result"
    }
   ],
   "source": [
    "def test(a, atol):\n",
    "    inv_a = inverse(a)\n",
    "    result = inv_a @ a - np.identity(len(a[0]))\n",
    "    return np.amax(result) < atol, np.amax(result)\n",
    "\n",
    "a = np.array([[1,2,3],[1,0,0],[7,8,9]])\n",
    "test(a, 1e-14)"
   ]
  },
  {
   "cell_type": "markdown",
   "metadata": {},
   "source": [
    "Note that we do NOT test for exact equality of every element of $A A^{-1} - I$ with zero, since we know that rounding errors will occur due to the machine epsilon. Instead, we use a typical method which is to check for equality within some bound, specified by `atol`.  (Note that we can achieve the same thing in fewer lines using `numpy.allclose()`,  but I have written the code explicitly here for clarity).\n",
    "\n",
    "We can extend this testing further.  Most importantly, we have only tested one case.  We should think about ways to broaden our test coverage.  For example, we could generate random matrices."
   ]
  },
  {
   "cell_type": "code",
   "execution_count": 105,
   "metadata": {},
   "outputs": [
    {
     "name": "stdout",
     "output_type": "stream",
     "text": [
      "Fraction of successful tests 0.974\n"
     ]
    }
   ],
   "source": [
    "n_true=0\n",
    "for i in range(1000):\n",
    "    a = np.random.random_sample(np.identity(3).shape)\n",
    "    if test(a, 1e-14)[0]:\n",
    "        n_true+=1\n",
    "print(\"Fraction of successful tests {}\".format(n_true/1000))"
   ]
  },
  {
   "cell_type": "markdown",
   "metadata": {},
   "source": [
    "You might have expected this test to produce a 100% success rate.  We can understand the result in more detail by  by looking at the closure values for a series of random matrices, as below.  Since the matrices are generated randomly, they are not necessarily well conditioned.  Some fraction will have badly behaved determinants (or have sub-matrix determinants that are badly behaved) and hence cannot be inverrted within the desired tolerance.\n",
    "\n",
    "You can try this testing method using the `scipy.linalg.inv()` routine, instead of our version, and you will see comparable behaviour."
   ]
  },
  {
   "cell_type": "code",
   "execution_count": 106,
   "metadata": {},
   "outputs": [
    {
     "data": {
      "image/png": "[encoded data removed]",
      "text/plain": [
       "<Figure size 432x288 with 1 Axes>"
      ]
     },
     "metadata": {
      "needs_background": "light"
     },
     "output_type": "display_data"
    }
   ],
   "source": [
    "vals = []\n",
    "for i in range(10000):\n",
    "    a = np.random.random_sample(np.identity(3).shape)\n",
    "    vals.append(test(a, 1e-14)[1])\n",
    "\n",
    "plt.hist(vals)\n",
    "plt.yscale('log')\n",
    "plt.show()"
   ]
  },
  {
   "cell_type": "markdown",
   "metadata": {},
   "source": [
    "## Physics Example\n",
    "\n",
    "In this simple example, we will use the matrix inversion routine developed above to compute the tension in the cables of flying camera system.  The camera is suspended above a football pitch using 3 cables attached to the roof.  Each cable is fed from a motorised drum, so that the camera can be moved arounud by varying the length of the cables.  The camera has a mass of 50kg and the attachment points are all 90m from the centre of the pitch, forming an equilateral triangle in a horizontal plane.  We assume the camera is maintained at a fixed height, 5m below the attachment points.  \n",
    "\n",
    "Ignoring the mass of the cables, we can write :\n",
    "$$|T_1|\\underline{n}_1 + |T_2|\\underline{n}_2 + |T_3|\\underline{n}_3 = mg \\underline{\\hat{z}}$$\n",
    "\n",
    "where $T_i$ are the tension in each cable and $n_i$ are unit vectors pointing in the direction of each attachment point from the camera.  We can write this as :\n",
    "$$\\pmatrix{\n",
    "n_{1,x} & n_{2,x} & n_{3,x} \\\\\n",
    "n_{1,y} & n_{2,y} & n_{3,y} \\\\\n",
    "n_{1,z} & n_{2,z} & n_{3,z}\n",
    "}\n",
    "\\pmatrix{ T_1 \\\\ T_2 \\\\ T_3 }\n",
    "=\n",
    "\\pmatrix{ 0 \\\\ 0 \\\\ -mg }\n",
    "$$\n",
    "\n",
    "Clearly, we can compute the tensions by finding the matrix in the above expression and inverting it.  First we write a function to generate the matrix from the camera position $\\underline{p}$."
   ]
  },
  {
   "cell_type": "code",
   "execution_count": 10,
   "metadata": {},
   "outputs": [
    {
     "name": "stdout",
     "output_type": "stream",
     "text": [
      "[[ 0.          0.499743   -0.499743  ]\n",
      " [ 0.         -0.86558026 -0.86558026]\n",
      " [ 1.          0.03205853  0.03205853]]\n"
     ]
    }
   ],
   "source": [
    "import scipy.linalg as linalg\n",
    "\n",
    "m = 50.\n",
    "g = 9.81\n",
    "\n",
    "# attachment points\n",
    "# 0,0,0 is above the centre of the pitch, in the plane of the attachments\n",
    "u0 = np.array([0, 90, 0])\n",
    "u1 = np.array([90*math.sqrt(3)/2, -90/2, 0])\n",
    "u2 = np.array([-90*math.sqrt(3)/2, -90/2, 0])\n",
    "\n",
    "# calculate the matrix to invert, given the 2D position of the camera in the (x,y) plane\n",
    "# p is the 2D position of the camera, pp is the 3D position needed to compute the matrix\n",
    "def matrix(p):\n",
    "    pp = np.array([p[0], p[1], -5])\n",
    "    return np.array([(u0-pp)/linalg.norm(u0-pp), (u1-pp)/linalg.norm(u1-pp), (u2-pp)/linalg.norm(u2-pp)]).T\n",
    "\n",
    "print(matrix(np.array([0, 90])))"
   ]
  },
  {
   "cell_type": "markdown",
   "metadata": {},
   "source": [
    "Now we can write the function to find the tensions from the position.  This just involves inverting the matrix and multiplying by the RHS of the equation above. Here we check this returns correct values for a few sample points."
   ]
  },
  {
   "cell_type": "code",
   "execution_count": 23,
   "metadata": {},
   "outputs": [
    {
     "name": "stdout",
     "output_type": "stream",
     "text": [
      "top point :  [490.5  -0.   -0. ]\n",
      "centre    :  [2947.53816769 2947.53816769 2947.53816769]\n",
      "bot mid   :  [   0.         3830.92746603 3830.92746603]\n",
      "bot left  :  [  0.    0.  490.5]\n",
      "bot right :  [  0.  490.5  -0. ]\n"
     ]
    }
   ],
   "source": [
    "def solve(p):\n",
    "    a      = matrix(p)\n",
    "    b      = np.array([0., 0., m*g])\n",
    "    result = inverse(a) @ b\n",
    "    return result\n",
    "\n",
    "print(\"top point : \", solve(np.array([0, 90])))\n",
    "print(\"centre    : \", solve(np.array([0, 0])))\n",
    "print(\"bot mid   : \", solve(np.array([0, -45])))\n",
    "print(\"bot left  : \", solve(np.array([-90*math.sqrt(3)/2, -45])))\n",
    "print(\"bot right : \", solve(np.array([90*math.sqrt(3)/2, -45])))"
   ]
  },
  {
   "cell_type": "markdown",
   "metadata": {},
   "source": [
    "Now we can plot one of the tensions as a function of the position.  First, we define a function to avoid computing values outside the equilateral triangle defined by the attachment points, where we know there cannot be a physical solution.\n"
   ]
  },
  {
   "cell_type": "code",
   "execution_count": 110,
   "metadata": {},
   "outputs": [],
   "source": [
    "def withinTriangle(p):\n",
    "    a = p[1]>-45 and p[1]<90.\n",
    "    b = abs(p[[0]]) < (math.sqrt(3)*(p[1]-90)/-3)\n",
    "    return a and b\n",
    "\n",
    "# set up grid of points to scan\n",
    "n_points = 100\n",
    "xs = np.linspace(-90*math.sqrt(3)/2, 90*math.sqrt(3)/2, n_points)\n",
    "ys = np.linspace(-45, 90, n_points)\n",
    "\n",
    "# arrays for tension results\n",
    "t0s = np.zeros(shape=(n_points,n_points))\n",
    "t1s = np.zeros(shape=(n_points,n_points))\n",
    "t2s = np.zeros(shape=(n_points,n_points))\n",
    "\n",
    "# now scan the grid and compute results where the method is valid\n",
    "for i in range(n_points):\n",
    "    for j in range(n_points):\n",
    "        p = np.array([xs[i], ys[j]])\n",
    "        if withinTriangle(p):\n",
    "            t0s[i][j] = solve(p)[0]\n",
    "            t1s[i][j] = solve(p)[1]\n",
    "            t2s[i][j] = solve(p)[2]\n"
   ]
  },
  {
   "cell_type": "code",
   "execution_count": 111,
   "metadata": {},
   "outputs": [
    {
     "data": {
      "text/plain": [
       "<matplotlib.image.AxesImage at 0x7f9e93394c88>"
      ]
     },
     "execution_count": 111,
     "metadata": {},
     "output_type": "execute_result"
    },
    {
     "data": {
      "image/png": "[encoded data removed]",
      "text/plain": [
       "<Figure size 1080x1080 with 3 Axes>"
      ]
     },
     "metadata": {
      "needs_background": "light"
     },
     "output_type": "display_data"
    }
   ],
   "source": [
    "import matplotlib.pyplot as plt\n",
    "\n",
    "fig, (ax0, ax1, ax2) = plt.subplots(nrows=1, ncols=3, figsize=(15, 15))\n",
    "ax0.set_title(\"Cable 0 (top)\")\n",
    "ax0.imshow(t0s.T, origin='lower', cmap='viridis', vmin=0, vmax=4000)\n",
    "ax1.set_title(\"Cable 1 (bottom right)\")\n",
    "ax1.imshow(t1s.T, origin='lower', cmap='viridis', vmin=0, vmax=4000)\n",
    "ax2.set_title(\"Cable 2 (bottom left)\")\n",
    "ax2.imshow(t2s.T, origin='lower', cmap='viridis', vmin=0, vmax=4000)\n"
   ]
  },
  {
   "cell_type": "markdown",
   "metadata": {},
   "source": [
    "The maximum tension in a wire is obtained when the camera is roughly half-way between the attachment point of that cable, and one of the other attachment points. At this point, the tension in the third wire is zero.\n",
    "\n",
    "We can also find the maximum tension in each wire :"
   ]
  },
  {
   "cell_type": "code",
   "execution_count": 26,
   "metadata": {},
   "outputs": [
    {
     "name": "stdout",
     "output_type": "stream",
     "text": [
      "Max T cable 0 = 3830.70\n",
      "Max T cable 1 = 3811.81\n",
      "Max T cable 2 = 3830.38\n"
     ]
    }
   ],
   "source": [
    "print(\"Max T cable 0 = {0:.2f}\".format(np.max(t0s)))\n",
    "print(\"Max T cable 1 = {0:.2f}\".format(np.max(t1s)))\n",
    "print(\"Max T cable 2 = {0:.2f}\".format(np.max(t2s)))"
   ]
  },
  {
   "cell_type": "markdown",
   "metadata": {},
   "source": [
    "Note that each value is slightly different. Given the symmetry of the problem, we can attribute this to rounding errors.\n",
    "\n",
    "You might want to try using one of the simultaneous equation solvers provided by `scipy.linalg` in the `solve()` method above, eg :\n",
    "https://docs.scipy.org/doc/scipy/reference/generated/scipy.linalg.solve.html\n"
   ]
  },
  {
   "cell_type": "code",
   "execution_count": null,
   "metadata": {},
   "outputs": [],
   "source": []
  }
 ],
 "metadata": {
  "kernelspec": {
   "display_name": "Python 3",
   "language": "python",
   "name": "python3"
  },
  "language_info": {
   "codemirror_mode": {
    "name": "ipython",
    "version": 3
   },
   "file_extension": ".py",
   "mimetype": "text/x-python",
   "name": "python",
   "nbconvert_exporter": "python",
   "pygments_lexer": "ipython3",
   "version": "3.7.3"
  }
 },
 "nbformat": 4,
 "nbformat_minor": 2
}
