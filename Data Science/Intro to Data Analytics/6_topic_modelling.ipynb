{
 "cells": [
  {
   "cell_type": "markdown",
   "metadata": {},
   "source": [
    "# Lab 6: Topic Modelling\n",
    "\n",
    "This lab explores topic modelling with Latent Dirichlet Allocation (LDA).\n",
    "\n",
    "### Learning Outcomes\n",
    "\n",
    "* Be able to apply Latent Dirichlet Allocation (LDA) using the Gensim library\n",
    "* Know how to interpret the outputs of LDA for a specific document or topic \n",
    "* Know how to apply TF-IDF to improve the vector representations of the documents.\n",
    "\n",
    "### Outline\n",
    "\n",
    "* Implementing LDA Topic Modelling\n",
    "* TF-IDF vectors\n",
    "* Visualizing Topic Modelling Results\n",
    "* Optional: HDP model as an alternative to LDA\n",
    "\n",
    "### How To Complete This Lab\n",
    "\n",
    "Read the text and the code then look for 'TODOs' that instruct you to complete some missing code. Look out for 'QUESTIONS' which you should try to answer before moving on to the next cell. Aim to work through the lab during the scheduled lab hours. To get help, you can talk to TAs or the lecturer during the labs, post questions to Blackboard (anonymously) or on Teams in the QA channel (with your name), or ask a question in the Wednesday live sessions. \n",
    "\n",
    "As you work through the notebooks, please make a note of any code that is unclear to you.\n",
    "\n",
    "The labs *will not be marked*. However, they will prepare you for the coursework, so try to keep up with the weekly labs and have fun with the exercises! To understand what's going on inside the methods we use here, make sure to watch the lecture videos for the same week."
   ]
  },
  {
   "cell_type": "markdown",
   "metadata": {},
   "source": [
    "## Step 1: Load the Dataset"
   ]
  },
  {
   "cell_type": "markdown",
   "metadata": {},
   "source": [
    "Topic modelling is uses unsupervised learning to extract the topics (represented as a probability distribution over words) that occur in a collection of documents. Let's load some data to apply topic modelling to from the 20 newsgroups dataset:"
   ]
  },
  {
   "cell_type": "code",
   "execution_count": 1,
   "metadata": {},
   "outputs": [],
   "source": [
    "from sklearn.datasets import fetch_20newsgroups\n",
    "\n",
    "# We will use the 'train' split for learning the topics in an unsupervised manner:\n",
    "newsgroups_train = fetch_20newsgroups(subset='train', shuffle=True, remove=('headers', 'footers', 'quotes'))\n",
    "\n",
    "# We will apply our learned topic model to the 'test' split later on:\n",
    "newsgroups_test = fetch_20newsgroups(subset='test', shuffle=True, remove=('headers', 'footers', 'quotes'))"
   ]
  },
  {
   "cell_type": "markdown",
   "metadata": {},
   "source": [
    "Newsgroups are internet discussion groups, where users discuss a range of topics. Despite the name, the posts do not usually contain news. This dataset contains posts from 20 different newsgroups. Each newsgroup has a particular theme. We can view the list of newsgroups in the training split as follows:"
   ]
  },
  {
   "cell_type": "code",
   "execution_count": 2,
   "metadata": {},
   "outputs": [
    {
     "name": "stdout",
     "output_type": "stream",
     "text": [
      "['alt.atheism', 'comp.graphics', 'comp.os.ms-windows.misc', 'comp.sys.ibm.pc.hardware', 'comp.sys.mac.hardware', 'comp.windows.x', 'misc.forsale', 'rec.autos', 'rec.motorcycles', 'rec.sport.baseball', 'rec.sport.hockey', 'sci.crypt', 'sci.electronics', 'sci.med', 'sci.space', 'soc.religion.christian', 'talk.politics.guns', 'talk.politics.mideast', 'talk.politics.misc', 'talk.religion.misc']\n"
     ]
    }
   ],
   "source": [
    "print(newsgroups_train.target_names)"
   ]
  },
  {
   "cell_type": "markdown",
   "metadata": {},
   "source": [
    "When working with a new dataset, it is always good to play around with the data and see what we have, and how to find everything :) \n",
    "```newsgroups_train``` is a Python dictionary. Let's look at the keys and the types of objects stored in the dictionary:"
   ]
  },
  {
   "cell_type": "code",
   "execution_count": 3,
   "metadata": {},
   "outputs": [
    {
     "name": "stdout",
     "output_type": "stream",
     "text": [
      "data <class 'list'>\n",
      "filenames <class 'numpy.ndarray'>\n",
      "target_names <class 'list'>\n",
      "target <class 'numpy.ndarray'>\n",
      "DESCR <class 'str'>\n"
     ]
    }
   ],
   "source": [
    "for i in newsgroups_train:\n",
    "    print(i, type(newsgroups_train[i]))"
   ]
  },
  {
   "cell_type": "markdown",
   "metadata": {},
   "source": [
    "The ```data``` item is a list of raw text documents. This is all we need for topic modelling, so we can ignore the ```target``` and ```DESCR``` keys for now.\n",
    "\n",
    "The code below prints out the first post in ```data```:"
   ]
  },
  {
   "cell_type": "code",
   "execution_count": 4,
   "metadata": {},
   "outputs": [
    {
     "name": "stdout",
     "output_type": "stream",
     "text": [
      "DOCUMENT 0:\n",
      "I was wondering if anyone out there could enlighten me on this car I saw\n",
      "the other day. It was a 2-door sports car, looked to be from the late 60s/\n",
      "early 70s. It was called a Bricklin. The doors were really small. In addition,\n",
      "the front bumper was separate from the rest of the body. This is \n",
      "all I know. If anyone can tellme a model name, engine specs, years\n",
      "of production, where this car is made, history, or whatever info you\n",
      "have on this funky looking car, please e-mail.\n"
     ]
    }
   ],
   "source": [
    "print('DOCUMENT 0:')\n",
    "print(newsgroups_train.data[0])"
   ]
  },
  {
   "cell_type": "markdown",
   "metadata": {},
   "source": [
    "## Step 2: Data Preprocessing"
   ]
  },
  {
   "cell_type": "markdown",
   "metadata": {},
   "source": [
    "To apply topic modelling, we need to first preprocess the data. We will carry out the following steps using the same approach as previous labs:\n",
    "* Tokenise the posts using NLTK's word_tokenize() function\n",
    "* Remove non-word tokens and tokens with length less than 3 (likely to be numbers and punctuation that are not related to specific topics) and longer than 15 (probably URLs, codes, andbadly formatted tokens rather than proper words)\n",
    "* Convert the tokens to lower case\n",
    "* Remove stopwords: we have not used this step before; it removes tokens such as 'the' and 'a' that appear in a list of very common words, because these words do not tell us much about topics\n",
    "* Lemmatize the tokens using WordNetLemmatizer to convert verbs to their root forms\n",
    "\n",
    "We're going to introduce another library, [Gensim](https://radimrehurek.com/gensim/), which contains a lot of useful tools for topic modelling, text normalisation, and vector representations of words or documents (embeddings). For preprocessing, we will use the list of stopwords provided by Gensim. For topic modelling, removing stopwords can be particularly useful to remove noise and reduce the model complexity. Run the code below to preprocess the text:"
   ]
  },
  {
   "cell_type": "code",
   "execution_count": 5,
   "metadata": {},
   "outputs": [],
   "source": [
    "from sklearn.feature_extraction.text import CountVectorizer\n",
    "from nltk.stem import WordNetLemmatizer \n",
    "from gensim.utils import simple_preprocess\n",
    "from gensim.parsing.preprocessing import STOPWORDS # find stopwords\n",
    "import numpy as np\n",
    "\n",
    "np.random.seed(400)  # We fix the random seed to ensure we get consistent results when we repeat the lab.\n",
    "\n",
    "# Tokenize and lemmatize\n",
    "def preprocess(text):\n",
    "    result=[]\n",
    "    for token in simple_preprocess(text) :  # Tokenize, remove very short and very long words, convert to lower case, remove words containing non-letter characters\n",
    "        if token not in STOPWORDS:\n",
    "            result.append(WordNetLemmatizer().lemmatize(token, 'v'))\n",
    "            \n",
    "    return result\n",
    "\n",
    "# Create a list of preprocessed documents\n",
    "processed = []\n",
    "for doc in newsgroups_train.data:\n",
    "    processed.append(preprocess(doc))"
   ]
  },
  {
   "cell_type": "markdown",
   "metadata": {},
   "source": [
    "Now that we have finished the preprocessing, we need to construct the input for Gensim's topic modelling method. We do so by constructing a dictionary with word<->id mappings, then converting that into a bag of words, which will be the input to our model."
   ]
  },
  {
   "cell_type": "code",
   "execution_count": 6,
   "metadata": {},
   "outputs": [
    {
     "name": "stdout",
     "output_type": "stream",
     "text": [
      "Dictionary(66025 unique tokens: ['addition', 'body', 'bricklin', 'bumper', 'call']...)\n"
     ]
    }
   ],
   "source": [
    "from gensim.corpora import Dictionary\n",
    "\n",
    "dictionary = Dictionary(processed) # construct word<->id mappings - it does it in alphabetical order\n",
    "print(dictionary)\n",
    "\n",
    "bow_corpus = [dictionary.doc2bow(doc) for doc in processed]"
   ]
  },
  {
   "cell_type": "markdown",
   "metadata": {},
   "source": [
    "# 3. Latent Dirichlet Allocation (LDA)\n",
    "\n",
    "Now we are ready to perform topic modelling using LDA. \n",
    "\n",
    "We are going to try 20 topics in the document corpus: the number of newsgroups is also 20, so perhaps we will find topics that correspond with the newsgroups. We will be running LDA using all CPU cores to parallelize and speed up model training.\n",
    "\n",
    "Gensim provides the ```LdaModel``` class. When we construct an ```LdaModel``` object, some of the parameters we will be tweaking are:\n",
    "   * *num_topics*, the number of requested latent topics to be extracted from the training corpus. <br>\n",
    "   * *id2word*, a mapping from word ids (integers) to words (strings). It is used to determine the vocabulary size, as well as for debugging and topic printing. <br>\n",
    "   * *workers*, the number of extra processes to use for parallelization. Uses all available cores by default. <br>\n"
   ]
  },
  {
   "cell_type": "code",
   "execution_count": 7,
   "metadata": {},
   "outputs": [],
   "source": [
    "from gensim.models import LdaModel\n",
    "\n",
    "lda_model =  LdaModel(bow_corpus, \n",
    "                      num_topics=20, \n",
    "                      id2word=dictionary,                                    \n",
    "                      passes=10,\n",
    "                    ) "
   ]
  },
  {
   "cell_type": "markdown",
   "metadata": {},
   "source": [
    "TODO 3.1: run the code below to print out the topic distributions found by LDA. Can you find any topics that relate to specific newsgroups (newsgroups_train.target_names)? Can you find any other meaningful topics? Topic 1 could be windows, 2 middle east politics, 3 could also be windows, 4 could be sci.crypt  "
   ]
  },
  {
   "cell_type": "code",
   "execution_count": 8,
   "metadata": {},
   "outputs": [
    {
     "name": "stdout",
     "output_type": "stream",
     "text": [
      "['alt.atheism', 'comp.graphics', 'comp.os.ms-windows.misc', 'comp.sys.ibm.pc.hardware', 'comp.sys.mac.hardware', 'comp.windows.x', 'misc.forsale', 'rec.autos', 'rec.motorcycles', 'rec.sport.baseball', 'rec.sport.hockey', 'sci.crypt', 'sci.electronics', 'sci.med', 'sci.space', 'soc.religion.christian', 'talk.politics.guns', 'talk.politics.mideast', 'talk.politics.misc', 'talk.religion.misc']\n"
     ]
    }
   ],
   "source": [
    "print(newsgroups_train.target_names)"
   ]
  },
  {
   "cell_type": "markdown",
   "metadata": {},
   "source": [
    "TODO 3.2: What do the values beside each word mean? The numbers next to each word most likely represnet the weight of those words."
   ]
  },
  {
   "cell_type": "code",
   "execution_count": 9,
   "metadata": {},
   "outputs": [
    {
     "name": "stdout",
     "output_type": "stream",
     "text": [
      "Topic: 0 \n",
      "Words: 0.647*\"ax\" + 0.048*\"max\" + 0.008*\"pl\" + 0.006*\"tm\" + 0.005*\"ei\" + 0.005*\"di\" + 0.005*\"bhj\" + 0.004*\"wm\" + 0.004*\"giz\" + 0.004*\"ey\"\n",
      "\n",
      "\n",
      "Topic: 1 \n",
      "Words: 0.036*\"edu\" + 0.021*\"com\" + 0.012*\"server\" + 0.011*\"sun\" + 0.010*\"cs\" + 0.010*\"db\" + 0.009*\"list\" + 0.009*\"available\" + 0.009*\"motif\" + 0.008*\"window\"\n",
      "\n",
      "\n",
      "Topic: 2 \n",
      "Words: 0.012*\"say\" + 0.012*\"people\" + 0.009*\"kill\" + 0.008*\"armenian\" + 0.008*\"come\" + 0.007*\"go\" + 0.007*\"armenians\" + 0.007*\"turkish\" + 0.006*\"war\" + 0.006*\"live\"\n",
      "\n",
      "\n",
      "Topic: 3 \n",
      "Words: 0.011*\"file\" + 0.010*\"drive\" + 0.010*\"windows\" + 0.010*\"use\" + 0.009*\"thank\" + 0.009*\"card\" + 0.008*\"program\" + 0.008*\"know\" + 0.008*\"work\" + 0.008*\"run\"\n",
      "\n",
      "\n",
      "Topic: 4 \n",
      "Words: 0.046*\"key\" + 0.027*\"chip\" + 0.013*\"encryption\" + 0.012*\"bite\" + 0.011*\"clipper\" + 0.010*\"use\" + 0.009*\"number\" + 0.007*\"phone\" + 0.007*\"encrypt\" + 0.006*\"know\"\n",
      "\n",
      "\n",
      "Topic: 5 \n",
      "Words: 0.035*\"file\" + 0.031*\"entry\" + 0.018*\"program\" + 0.014*\"entries\" + 0.014*\"output\" + 0.013*\"section\" + 0.012*\"rule\" + 0.010*\"build\" + 0.010*\"echo\" + 0.009*\"info\"\n",
      "\n",
      "\n",
      "Topic: 6 \n",
      "Words: 0.036*\"vs\" + 0.034*\"la\" + 0.023*\"van\" + 0.019*\"min\" + 0.018*\"det\" + 0.017*\"cal\" + 0.017*\"bos\" + 0.016*\"tor\" + 0.016*\"chi\" + 0.015*\"pit\"\n",
      "\n",
      "\n",
      "Topic: 7 \n",
      "Words: 0.034*\"space\" + 0.013*\"nasa\" + 0.012*\"launch\" + 0.009*\"earth\" + 0.009*\"satellite\" + 0.009*\"orbit\" + 0.009*\"center\" + 0.008*\"program\" + 0.007*\"moon\" + 0.007*\"research\"\n",
      "\n",
      "\n",
      "Topic: 8 \n",
      "Words: 0.020*\"image\" + 0.011*\"print\" + 0.009*\"ms\" + 0.008*\"dod\" + 0.008*\"color\" + 0.007*\"printer\" + 0.007*\"page\" + 0.006*\"gif\" + 0.006*\"font\" + 0.006*\"appear\"\n",
      "\n",
      "\n",
      "Topic: 9 \n",
      "Words: 0.020*\"cx\" + 0.015*\"c_\" + 0.013*\"hz\" + 0.010*\"qs\" + 0.010*\"lk\" + 0.009*\"ck\" + 0.008*\"ww\" + 0.008*\"mc\" + 0.008*\"mv\" + 0.007*\"md\"\n",
      "\n",
      "\n",
      "Topic: 10 \n",
      "Words: 0.029*\"game\" + 0.023*\"team\" + 0.017*\"play\" + 0.013*\"win\" + 0.012*\"year\" + 0.011*\"season\" + 0.010*\"hockey\" + 0.009*\"league\" + 0.008*\"score\" + 0.008*\"st\"\n",
      "\n",
      "\n",
      "Topic: 11 \n",
      "Words: 0.054*\"wire\" + 0.021*\"grind\" + 0.016*\"bank\" + 0.016*\"edu\" + 0.015*\"neutral\" + 0.012*\"gordon\" + 0.011*\"ground\" + 0.011*\"soon\" + 0.010*\"surrender\" + 0.010*\"skepticism\"\n",
      "\n",
      "\n",
      "Topic: 12 \n",
      "Words: 0.009*\"new\" + 0.009*\"car\" + 0.008*\"price\" + 0.008*\"sell\" + 0.008*\"buy\" + 0.007*\"drive\" + 0.007*\"power\" + 0.007*\"like\" + 0.006*\"good\" + 0.006*\"look\"\n",
      "\n",
      "\n",
      "Topic: 13 \n",
      "Words: 0.017*\"government\" + 0.013*\"right\" + 0.010*\"state\" + 0.007*\"law\" + 0.006*\"people\" + 0.005*\"israel\" + 0.005*\"public\" + 0.005*\"new\" + 0.005*\"information\" + 0.004*\"security\"\n",
      "\n",
      "\n",
      "Topic: 14 \n",
      "Words: 0.021*\"god\" + 0.010*\"people\" + 0.009*\"believe\" + 0.008*\"jesus\" + 0.007*\"think\" + 0.007*\"know\" + 0.007*\"say\" + 0.007*\"mean\" + 0.006*\"bible\" + 0.005*\"come\"\n",
      "\n",
      "\n",
      "Topic: 15 \n",
      "Words: 0.018*\"think\" + 0.015*\"like\" + 0.014*\"know\" + 0.012*\"time\" + 0.010*\"go\" + 0.009*\"people\" + 0.009*\"get\" + 0.009*\"good\" + 0.008*\"ve\" + 0.007*\"want\"\n",
      "\n",
      "\n",
      "Topic: 16 \n",
      "Words: 0.014*\"helmet\" + 0.011*\"sea\" + 0.008*\"nist\" + 0.007*\"vice\" + 0.007*\"garage\" + 0.007*\"ncsl\" + 0.006*\"edt\" + 0.005*\"sink\" + 0.005*\"humor\" + 0.005*\"oak\"\n",
      "\n",
      "\n",
      "Topic: 17 \n",
      "Words: 0.019*\"gun\" + 0.014*\"state\" + 0.014*\"mr\" + 0.010*\"president\" + 0.006*\"people\" + 0.006*\"tax\" + 0.005*\"control\" + 0.005*\"issue\" + 0.005*\"arm\" + 0.005*\"year\"\n",
      "\n",
      "\n",
      "Topic: 18 \n",
      "Words: 0.029*\"window\" + 0.016*\"ra\" + 0.014*\"msg\" + 0.008*\"food\" + 0.007*\"colormap\" + 0.007*\"create\" + 0.007*\"kent\" + 0.006*\"button\" + 0.006*\"pointer\" + 0.006*\"talent\"\n",
      "\n",
      "\n",
      "Topic: 19 \n",
      "Words: 0.014*\"use\" + 0.010*\"information\" + 0.009*\"data\" + 0.008*\"book\" + 0.008*\"public\" + 0.007*\"number\" + 0.007*\"ripem\" + 0.006*\"include\" + 0.006*\"reference\" + 0.006*\"available\"\n",
      "\n",
      "\n"
     ]
    }
   ],
   "source": [
    "'''\n",
    "For each topic, we will explore the words occuring in that topic and its relative weight\n",
    "'''\n",
    "for idx, topic in lda_model.print_topics(-1):\n",
    "    print(\"Topic: {} \\nWords: {}\".format(idx, topic ))\n",
    "    print(\"\\n\")"
   ]
  },
  {
   "cell_type": "markdown",
   "metadata": {},
   "source": [
    "## Testing on unseen data"
   ]
  },
  {
   "cell_type": "markdown",
   "metadata": {},
   "source": [
    "Now that we have a trained LDA mode, we can run it on a new, unseen document to get the breakdown of topics. Let's test the model on a document from the test set. First, get the raw document, then apply preprocessing:"
   ]
  },
  {
   "cell_type": "code",
   "execution_count": 10,
   "metadata": {},
   "outputs": [
    {
     "name": "stdout",
     "output_type": "stream",
     "text": [
      "I am a little confused on all of the models of the 88-89 bonnevilles.\n",
      "I have heard of the LE SE LSE SSE SSEI. Could someone tell me the\n",
      "differences are far as features or performance. I am also curious to\n",
      "know what the book value is for prefereably the 89 model. And how much\n",
      "less than book value can you usually get them for. In other words how\n",
      "much are they in demand this time of year. I have heard that the mid-spring\n",
      "early summer is the best time to buy.\n",
      " This document is from newsgroup rec.autos\n",
      "early: 1\n",
      "know: 1\n",
      "model: 2\n",
      "hear: 2\n",
      "summer: 1\n",
      "time: 2\n",
      "tell: 1\n",
      "value: 2\n",
      "buy: 1\n",
      "usually: 1\n",
      "year: 1\n",
      "little: 1\n",
      "feature: 1\n",
      "word: 1\n",
      "best: 1\n",
      "book: 2\n",
      "performance: 1\n",
      "mid: 1\n",
      "far: 1\n",
      "le: 1\n",
      "differences: 1\n",
      "spring: 1\n",
      "demand: 1\n",
      "se: 1\n",
      "confuse: 1\n",
      "curious: 1\n",
      "prefereably: 1\n"
     ]
    }
   ],
   "source": [
    "test_document_idx = 0\n",
    "unseen_document = newsgroups_test.data[test_document_idx]\n",
    "print(unseen_document)\n",
    "\n",
    "print(f' This document is from newsgroup {newsgroups_test.target_names[newsgroups_test.target[test_document_idx]]}')\n",
    "\n",
    "# Data preprocessing step for the unseen document - It is the same preprocessing we have performed for the training data\n",
    "bow_vector = dictionary.doc2bow(preprocess(unseen_document))\n",
    "\n",
    "for idx, count in bow_vector:\n",
    "    print(f'{dictionary[idx]}: {count}')"
   ]
  },
  {
   "cell_type": "markdown",
   "metadata": {},
   "source": [
    "Now, run our preprocessed document through the LDA model as follows to obtain $\\boldsymbol{\\theta}^d$, the topic distribution (topics with zero probability are not shown):"
   ]
  },
  {
   "cell_type": "markdown",
   "metadata": {},
   "source": [
    "We can examine the word-topic distributions for the topics associated with this document:"
   ]
  },
  {
   "cell_type": "code",
   "execution_count": 11,
   "metadata": {},
   "outputs": [
    {
     "name": "stdout",
     "output_type": "stream",
     "text": [
      "[(9, 0.03468739), (12, 0.4836444), (14, 0.15132226), (15, 0.30533457)]\n",
      "Index: 12\n",
      "Probability: 0.48364439606666565\t Topic: 0.009*\"new\" + 0.009*\"car\" + 0.008*\"price\" + 0.008*\"sell\" + 0.008*\"buy\"\n",
      "Index: 15\n",
      "Probability: 0.30533456802368164\t Topic: 0.018*\"think\" + 0.015*\"like\" + 0.014*\"know\" + 0.012*\"time\" + 0.010*\"go\"\n",
      "Index: 14\n",
      "Probability: 0.15132226049900055\t Topic: 0.021*\"god\" + 0.010*\"people\" + 0.009*\"believe\" + 0.008*\"jesus\" + 0.007*\"think\"\n",
      "Index: 9\n",
      "Probability: 0.03468738868832588\t Topic: 0.020*\"cx\" + 0.015*\"c_\" + 0.013*\"hz\" + 0.010*\"qs\" + 0.010*\"lk\"\n"
     ]
    }
   ],
   "source": [
    "topic_distribution = lda_model[bow_vector]\n",
    "print(topic_distribution)\n",
    "for index, probability in sorted(topic_distribution, key=lambda tup: -1*tup[1]):\n",
    "    print(\"Index: {}\\nProbability: {}\\t Topic: {}\".format(index, probability, lda_model.print_topic(index, 5)))"
   ]
  },
  {
   "cell_type": "markdown",
   "metadata": {},
   "source": [
    "## Visualising Topics \n",
    "\n",
    "Let's compare the topics for some training set documents in the same newsgroup.\n",
    "\n",
    "TODO 3.3: Complete the code below to define a function to retrieve the topic distributions for 10 documents in the ```talk.politics.mideast``` newsgroup."
   ]
  },
  {
   "cell_type": "code",
   "execution_count": 64,
   "metadata": {},
   "outputs": [],
   "source": [
    "from gensim.matutils import any2sparse\n",
    "\n",
    "def get_document_ids_in_newsgroup(newsgroup_name, newsgroups_data):\n",
    "    # retrieve a list of document indexes for documents with this target_name\n",
    "    doc_idxs = []\n",
    "    for i, target_i in enumerate(newsgroups_data.target):\n",
    "        if newsgroups_data.target_names[target_i] == newsgroup_name:\n",
    "            doc_idxs.append(i)\n",
    "            \n",
    "    print(\"There are {} documents in the newsgroup {}\".format(len(doc_idxs), newsgroup_name))\n",
    "            \n",
    "    return doc_idxs\n",
    "\n",
    "\n",
    "def get_topic_dists_in_newsgroup(newsgroup_name, lda_model, max_num_docs=10):\n",
    "    doc_idxs = get_document_ids_in_newsgroup(newsgroup_name, newsgroups_train)\n",
    "    \n",
    "    # only use the first ten documents.\n",
    "    if len(doc_idxs) > max_num_docs:\n",
    "        doc_idxs = doc_idxs[:max_num_docs]\n",
    "    print(doc_idxs)\n",
    "    \n",
    "    # Save each theta_d distribution to the list 'thetas':\n",
    "    thetas = []\n",
    "    \n",
    "    for doc_idx in doc_idxs:\n",
    "        ### COMPLETE THE CODE HERE\n",
    "        \n",
    "        # Get the document from newsgroups_train\n",
    "        doc = newsgroups_train.data[doc_idx]\n",
    "        \n",
    "        # Apply preprocessing to get a bag-of-words vector:\n",
    "        bow_vector = dictionary.doc2bow(preprocess(doc))\n",
    "        \n",
    "        # Use the LDA model to compute the topic distribution for this document:\n",
    "        theta_d = lda_model[bow_vector]\n",
    "        \n",
    "        #######################\n",
    "        \n",
    "        thetas.append(theta_d)\n",
    "    \n",
    "    return thetas"
   ]
  },
  {
   "cell_type": "markdown",
   "metadata": {},
   "source": [
    "Run the function above and print out the topic distributions:"
   ]
  },
  {
   "cell_type": "code",
   "execution_count": 65,
   "metadata": {
    "scrolled": true
   },
   "outputs": [
    {
     "name": "stdout",
     "output_type": "stream",
     "text": [
      "There are 564 documents in the newsgroup talk.politics.mideast\n",
      "[33, 54, 70, 91, 104, 133, 152, 160, 202, 219]\n",
      "[[(2, 0.6436529), (7, 0.3318458), (15, 0.015131271)], [(2, 0.6020892), (5, 0.025420219), (8, 0.016252175), (13, 0.13333271), (14, 0.055681452), (15, 0.034020983), (17, 0.071603164), (19, 0.058327664)], [(2, 0.7734771), (8, 0.016268106), (13, 0.1273078), (14, 0.036894802), (17, 0.028794693)], [(2, 0.41018152), (8, 0.026231578), (9, 0.06430294), (13, 0.28817505), (14, 0.20253433)], [(11, 0.018936483), (13, 0.10978017), (14, 0.36264515), (15, 0.2858063), (16, 0.20839982)], [(2, 0.79514104), (4, 0.036440186), (13, 0.1496585)], [(2, 0.099440485), (4, 0.022048423), (5, 0.018008204), (7, 0.018886628), (12, 0.12625815), (13, 0.38428685), (15, 0.20807904), (16, 0.015143129), (17, 0.09985643)], [(2, 0.8681504), (12, 0.09584244)], [(8, 0.09386088), (9, 0.046696465), (12, 0.05707933), (13, 0.22925258), (14, 0.2317718), (15, 0.30940914)], [(13, 0.34179902), (14, 0.20015672), (15, 0.20239258), (16, 0.094756134), (17, 0.14000829)]]\n",
      "There are 480 documents in the newsgroup alt.atheism\n",
      "[15, 20, 65, 68, 80, 98, 115, 126, 135, 147]\n",
      "[[(2, 0.35965967), (13, 0.3785889), (15, 0.24280776)], [(14, 0.3036589), (15, 0.63203794)], [(12, 0.1356161), (14, 0.7408091), (15, 0.1065595)], [(2, 0.14310262), (4, 0.01076803), (12, 0.06133676), (14, 0.6926038), (15, 0.08054661)], [(2, 0.07940083), (3, 0.020175211), (10, 0.015421132), (13, 0.21507475), (14, 0.32706726), (15, 0.04328245), (17, 0.1401092), (18, 0.12121992), (19, 0.027885236)], [(2, 0.30605116), (14, 0.53676957), (18, 0.0799726), (19, 0.046370447)], [(14, 0.9513964), (18, 0.026094569)], [(0, 0.010005758), (1, 0.010005758), (2, 0.010005758), (3, 0.010005758), (4, 0.010005758), (5, 0.010005758), (6, 0.010005758), (7, 0.010005758), (8, 0.010005758), (9, 0.010005758), (10, 0.010005758), (11, 0.010005758), (12, 0.010005758), (13, 0.010005758), (14, 0.8098906), (15, 0.010005759), (16, 0.010005758), (17, 0.010005758), (18, 0.010005758), (19, 0.010005758)], [(0, 0.016668921), (1, 0.016668921), (2, 0.016668921), (3, 0.016668921), (4, 0.016668921), (5, 0.016668921), (6, 0.016668921), (7, 0.016668921), (8, 0.016668921), (9, 0.016668921), (10, 0.016668921), (11, 0.016668921), (12, 0.016668921), (13, 0.016668921), (14, 0.016668921), (15, 0.6832905), (16, 0.016668921), (17, 0.016668921), (18, 0.016668921), (19, 0.016668921)], [(2, 0.28255227), (10, 0.016264802), (13, 0.4551474), (14, 0.08644982), (15, 0.1475932)]]\n",
      "There are 590 documents in the newsgroup comp.sys.ibm.pc.hardware\n",
      "[7, 42, 74, 85, 112, 178, 185, 259, 270, 314]\n",
      "[[(3, 0.8940606), (4, 0.0792381), (8, 0.020448107)], [(0, 0.012503642), (1, 0.012503642), (2, 0.012503642), (3, 0.012503643), (4, 0.012503642), (5, 0.012503642), (6, 0.012503642), (7, 0.012503642), (8, 0.012503642), (9, 0.012503642), (10, 0.012503642), (11, 0.012503642), (12, 0.012503642), (13, 0.26247805), (14, 0.012503642), (15, 0.012503642), (16, 0.2624542), (17, 0.012503642), (18, 0.012503642), (19, 0.26250583)], [(0, 0.0878151), (3, 0.29112962), (4, 0.58435506), (11, 0.023788003)], [(3, 0.95238703)], [(1, 0.13597529), (3, 0.73688304), (4, 0.108649254)], [(3, 0.10934041), (4, 0.6504205), (14, 0.031065866), (15, 0.19486053)], [(3, 0.8787352), (9, 0.031415522), (19, 0.066863135)], [(1, 0.026386732), (3, 0.5490371), (4, 0.071347445), (10, 0.017267007), (12, 0.13105734), (14, 0.014417678), (15, 0.035901546), (19, 0.15148516)], [(3, 0.9703052)], [(3, 0.37224495), (8, 0.02530727), (12, 0.5555538), (13, 0.027813852)]]\n"
     ]
    }
   ],
   "source": [
    "thetas = get_topic_dists_in_newsgroup('talk.politics.mideast', lda_model, max_num_docs=10)\n",
    "print(thetas)\n",
    "\n",
    "print(get_topic_dists_in_newsgroup('alt.atheism', lda_model, max_num_docs=10))\n",
    "print(get_topic_dists_in_newsgroup('comp.sys.ibm.pc.hardware', lda_model, max_num_docs=10))"
   ]
  },
  {
   "cell_type": "markdown",
   "metadata": {},
   "source": [
    "The text output is quite hard to read. We can improve on it by making a bar chart with a distinct colour for each topic. The function below can be used to plot a simple bar chart using the ```matplotlib``` library. This will help us see which documents discuss the same topics. The height of each bar is the probability for that topic within the document, according to our model."
   ]
  },
  {
   "cell_type": "code",
   "execution_count": 66,
   "metadata": {},
   "outputs": [],
   "source": [
    "import matplotlib.pyplot as plt\n",
    "import numpy as np\n",
    "\n",
    "# choose some colours for the topics\n",
    "colours = ['blue', 'green', 'red', 'cyan', 'magenta', 'yellow', 'black', 'teal', 'pink', 'purple',\n",
    "           'orange', 'gray', 'lime', 'darkgreen', 'lightgray', 'navy', 'gold', 'crimson', 'darkgray', 'fuchsia']\n",
    "\n",
    "def convert_theta_sparse_to_dense(theta_d_sparse, num_topics):\n",
    "    theta_d = np.zeros(num_topics)  # an empty array\n",
    "    \n",
    "    # split the output from lda_model into two lists\n",
    "    active_topics_in_d, probs = map(list, zip(*theta_d_sparse))\n",
    "    # record the values in theta_d\n",
    "    for i, topic in enumerate(active_topics_in_d):\n",
    "        if topic >= num_topics:\n",
    "            break\n",
    "            \n",
    "        theta_d[topic] = probs[i]\n",
    "    \n",
    "    return theta_d\n",
    "\n",
    "# a function for producing a bar chart for a document\n",
    "def plot_theta(thetas, d, num_docs, num_topics):\n",
    "    plt.subplot(int(num_docs/3) + 1, 3, d+1)   # make a set of subplots inside a figure, with four subplots per row\n",
    "    \n",
    "    theta_d = convert_theta_sparse_to_dense(thetas[d], num_topics)\n",
    "    \n",
    "    # plot the results so that the same topics always occur at the same place along the x axis.\n",
    "    plt.bar(x=np.arange(len(theta_d)), height=theta_d, color=colours, tick_label=np.arange(num_topics))"
   ]
  },
  {
   "cell_type": "markdown",
   "metadata": {},
   "source": [
    "TODO 3.4: use the function to plot the topic distributions of the 10 documents we selected from the ```talk.politics.mideast``` newsgroup. What do you notice? Are there any topics the documents have in common? Any they do not? Refer back to the printed list of topics above to find the most common topic in this newsgroup."
   ]
  },
  {
   "cell_type": "code",
   "execution_count": 67,
   "metadata": {},
   "outputs": [
    {
     "data": {
      "image/png": "[encoded data removed]",
      "text/plain": [
       "<Figure size 2000x800 with 10 Axes>"
      ]
     },
     "metadata": {},
     "output_type": "display_data"
    }
   ],
   "source": [
    "plt.figure(figsize=(20,8))\n",
    "\n",
    "### WRITE YOUR OWN CODE HERE\n",
    "num_docs = 10\n",
    "num_topics = 20\n",
    "#theta_d = convert_theta_sparse_to_dense(thetas[2], num_topics)\n",
    "#loop through d\n",
    "for d in range(num_docs):\n",
    "    plot_theta(thetas,d,num_docs,num_topics)\n",
    "############################\n",
    "\n",
    "plt.show()"
   ]
  },
  {
   "cell_type": "markdown",
   "metadata": {},
   "source": [
    "Now, let's look at how the topics we've found with LDA relate to the newsgroups (the targets in the training set).\n",
    "\n",
    "The code below iterates over the newsgroups, computing the topic distribution for each document in that particular newsgroup. \n",
    "\n",
    "TODO 3.5: Complete the function below to compute the mean topic distribution, $\\boldsymbol\\theta$, for each newsgroup. Hint: use the ```mean``` function from Numpy. "
   ]
  },
  {
   "cell_type": "code",
   "execution_count": 68,
   "metadata": {},
   "outputs": [
    {
     "name": "stdout",
     "output_type": "stream",
     "text": [
      "(20, 20)\n",
      "There are 480 documents in the newsgroup alt.atheism\n",
      "[15, 20, 65, 68, 80, 98, 115, 126, 135, 147]\n",
      "[0.         0.         0.35966265 0.         0.         0.\n",
      " 0.         0.         0.         0.         0.         0.\n",
      " 0.         0.37858784 0.         0.24280588 0.         0.\n",
      " 0.         0.        ]\n",
      "[0.00266747 0.00266747 0.11974785 0.00468508 0.0037443  0.00266747\n",
      " 0.00266747 0.00266747 0.00266747 0.00266747 0.00583608 0.00266747\n",
      " 0.02236418 0.10754889 0.44652761 0.19461102 0.00266747 0.01667861\n",
      " 0.0253962  0.01009237]\n",
      "There are 584 documents in the newsgroup comp.graphics\n",
      "[3, 16, 25, 82, 87, 99, 108, 125, 137, 150]\n",
      "[0.         0.         0.         0.52005285 0.36739355 0.\n",
      " 0.         0.         0.         0.         0.         0.\n",
      " 0.         0.         0.         0.         0.         0.\n",
      " 0.         0.        ]\n",
      "[0.         0.02643693 0.         0.44425918 0.04129027 0.\n",
      " 0.         0.03353375 0.11288394 0.         0.00103271 0.\n",
      " 0.03248186 0.00591076 0.         0.13715185 0.         0.03520573\n",
      " 0.00503734 0.08269214]\n",
      "There are 591 documents in the newsgroup comp.os.ms-windows.misc\n",
      "[8, 23, 52, 58, 78, 79, 83, 86, 93, 138]\n",
      "[0.         0.         0.         0.92689824 0.         0.\n",
      " 0.         0.         0.         0.         0.         0.\n",
      " 0.         0.         0.         0.         0.         0.\n",
      " 0.         0.        ]\n",
      "[0.0023313  0.03749282 0.00119065 0.57130223 0.01710532 0.\n",
      " 0.00290751 0.03035552 0.07131269 0.03292063 0.00210453 0.\n",
      " 0.04561336 0.02804325 0.02151054 0.06296243 0.         0.00763989\n",
      " 0.02194976 0.01414476]\n",
      "There are 590 documents in the newsgroup comp.sys.ibm.pc.hardware\n",
      "[7, 42, 74, 85, 112, 178, 185, 259, 270, 314]\n",
      "[0.         0.         0.         0.89406508 0.07923382 0.\n",
      " 0.         0.         0.02044785 0.         0.         0.\n",
      " 0.         0.         0.         0.         0.         0.\n",
      " 0.         0.        ]\n",
      "[0.01003183 0.01748646 0.00125036 0.57670846 0.15064272 0.00125036\n",
      " 0.00125036 0.00125036 0.00582588 0.00439182 0.00297705 0.00362894\n",
      " 0.0699141  0.02902914 0.00579842 0.024326   0.02624541 0.00125036\n",
      " 0.00125036 0.04804712]\n",
      "There are 578 documents in the newsgroup comp.sys.mac.hardware\n",
      "[1, 2, 9, 12, 24, 41, 45, 46, 62, 103]\n",
      "[0.         0.         0.         0.60619187 0.11152636 0.\n",
      " 0.         0.         0.         0.         0.01781872 0.\n",
      " 0.09906735 0.02694471 0.05628976 0.         0.         0.0688775\n",
      " 0.         0.        ]\n",
      "[0.005      0.04713754 0.005      0.39320626 0.0357621  0.005\n",
      " 0.005      0.005      0.005      0.005      0.01023703 0.005\n",
      " 0.07638941 0.00769447 0.02587454 0.1628514  0.005      0.01188775\n",
      " 0.05508586 0.07972926]\n",
      "There are 593 documents in the newsgroup comp.windows.x\n",
      "[19, 50, 61, 97, 118, 175, 211, 269, 290, 308]\n",
      "[0.         0.48792228 0.         0.4395943  0.         0.03005745\n",
      " 0.         0.         0.         0.         0.         0.\n",
      " 0.         0.         0.         0.03216263 0.         0.\n",
      " 0.         0.        ]\n",
      "[0.         0.32967693 0.01794391 0.28800569 0.         0.00300574\n",
      " 0.01160572 0.00327947 0.02057041 0.         0.00690201 0.\n",
      " 0.01902103 0.         0.         0.10841988 0.         0.\n",
      " 0.11772098 0.03926356]\n",
      "There are 585 documents in the newsgroup misc.forsale\n",
      "[14, 22, 30, 63, 69, 100, 109, 130, 132, 166]\n",
      "[0.         0.         0.         0.         0.         0.\n",
      " 0.         0.         0.         0.         0.         0.\n",
      " 0.99066001 0.         0.         0.         0.         0.\n",
      " 0.         0.        ]\n",
      "[0.         0.02135673 0.         0.1865316  0.0626675  0.01838807\n",
      " 0.00273426 0.00393388 0.01090984 0.         0.06220935 0.\n",
      " 0.46916934 0.01024348 0.01298048 0.02181676 0.         0.01255709\n",
      " 0.01718775 0.0607471 ]\n",
      "There are 594 documents in the newsgroup rec.autos\n",
      "[0, 17, 29, 56, 64, 71, 73, 77, 84, 156]\n",
      "[0.         0.         0.04052275 0.         0.         0.\n",
      " 0.         0.         0.         0.         0.         0.\n",
      " 0.64244086 0.         0.         0.29125249 0.         0.\n",
      " 0.         0.        ]\n",
      "[0.         0.         0.02111686 0.01948119 0.00956231 0.00666367\n",
      " 0.         0.01521182 0.01675278 0.         0.01552289 0.\n",
      " 0.53209872 0.03741107 0.03004872 0.16140637 0.02769912 0.02741912\n",
      " 0.         0.04900646]\n",
      "There are 598 documents in the newsgroup rec.motorcycles\n",
      "[10, 36, 38, 47, 94, 95, 102, 121, 129, 143]\n",
      "[0.         0.         0.         0.         0.         0.\n",
      " 0.         0.02158584 0.46758363 0.         0.         0.\n",
      " 0.49474782 0.         0.         0.         0.         0.\n",
      " 0.         0.        ]\n",
      "[0.00222912 0.01255957 0.07252133 0.00150868 0.00431796 0.00917672\n",
      " 0.00255432 0.00672627 0.18772988 0.00447203 0.00619078 0.\n",
      " 0.25169105 0.00953392 0.00781496 0.34701419 0.         0.04373879\n",
      " 0.         0.00793777]\n",
      "There are 597 documents in the newsgroup rec.sport.baseball\n",
      "[27, 40, 43, 44, 114, 128, 136, 141, 164, 167]\n",
      "[0.         0.         0.         0.         0.         0.\n",
      " 0.         0.         0.         0.         0.88122803 0.\n",
      " 0.         0.         0.         0.         0.         0.\n",
      " 0.         0.        ]\n",
      "[0.005      0.03961779 0.03675768 0.05119453 0.03171759 0.005\n",
      " 0.04349466 0.005      0.005      0.00670645 0.2867761  0.00967067\n",
      " 0.00921245 0.05378052 0.03469883 0.20427652 0.06604415 0.0306469\n",
      " 0.02984756 0.005     ]\n",
      "There are 600 documents in the newsgroup rec.sport.hockey\n",
      "[21, 35, 57, 88, 113, 172, 174, 208, 233, 266]\n",
      "[0.         0.         0.         0.         0.         0.\n",
      " 0.24023592 0.         0.         0.         0.44684872 0.\n",
      " 0.         0.         0.         0.29266858 0.         0.\n",
      " 0.         0.        ]\n",
      "[0.         0.         0.014731   0.02423703 0.01605166 0.00495581\n",
      " 0.04460111 0.02331434 0.00346284 0.         0.23868273 0.02403618\n",
      " 0.02323496 0.01567498 0.0268217  0.46294191 0.0236625  0.\n",
      " 0.         0.00211162]\n",
      "There are 595 documents in the newsgroup sci.crypt\n",
      "[37, 55, 66, 76, 117, 192, 204, 213, 244, 245]\n",
      "[0.         0.         0.02046335 0.         0.14448993 0.\n",
      " 0.         0.         0.01315677 0.         0.         0.\n",
      " 0.         0.44287661 0.17425394 0.11419128 0.         0.06605309\n",
      " 0.         0.0211518 ]\n",
      "[0.005      0.03926921 0.00704634 0.08566017 0.25930246 0.005\n",
      " 0.00687823 0.0156823  0.00912845 0.005      0.00747892 0.005\n",
      " 0.10042277 0.14149657 0.04298595 0.06576673 0.0082277  0.0478793\n",
      " 0.005      0.12533417]\n",
      "There are 591 documents in the newsgroup sci.electronics\n",
      "[18, 26, 32, 48, 60, 72, 75, 89, 90, 92]\n",
      "[0.         0.         0.         0.04700392 0.         0.\n",
      " 0.         0.07799027 0.         0.         0.         0.\n",
      " 0.         0.         0.         0.32899004 0.         0.\n",
      " 0.         0.52494556]\n",
      "[0.         0.02408009 0.01016699 0.2856004  0.02996734 0.\n",
      " 0.00403386 0.06002265 0.         0.00770287 0.00866702 0.01027585\n",
      " 0.20764115 0.         0.         0.20141728 0.         0.03324448\n",
      " 0.00954258 0.07035684]\n",
      "There are 594 documents in the newsgroup sci.med\n",
      "[6, 31, 53, 116, 131, 140, 145, 177, 180, 182]\n",
      "[0.         0.12181839 0.         0.30396205 0.         0.\n",
      " 0.         0.         0.         0.         0.09728954 0.\n",
      " 0.         0.         0.         0.31915787 0.         0.10112549\n",
      " 0.03471    0.        ]\n",
      "[0.         0.02294398 0.02536935 0.03928426 0.00287593 0.\n",
      " 0.020155   0.00652685 0.00282589 0.00129613 0.01593032 0.04117762\n",
      " 0.03709122 0.07344563 0.01170636 0.52014995 0.01692808 0.01955495\n",
      " 0.04516886 0.07723702]\n",
      "There are 593 documents in the newsgroup sci.space\n",
      "[4, 13, 49, 59, 119, 134, 149, 151, 153, 205]\n",
      "[0.         0.17634264 0.         0.31379953 0.         0.\n",
      " 0.         0.06898844 0.         0.         0.         0.\n",
      " 0.         0.         0.         0.32630539 0.         0.\n",
      " 0.09531901 0.        ]\n",
      "[0.01671443 0.03805378 0.0106098  0.07319907 0.03183121 0.005\n",
      " 0.005      0.28985022 0.02120351 0.005      0.02130644 0.018084\n",
      " 0.16560742 0.02898039 0.01726826 0.12299139 0.02610531 0.03791184\n",
      " 0.0145319  0.02032397]\n",
      "There are 599 documents in the newsgroup soc.religion.christian\n",
      "[28, 51, 120, 123, 124, 139, 148, 159, 163, 203]\n",
      "[0.         0.0123876  0.15802465 0.         0.         0.\n",
      " 0.         0.         0.         0.         0.         0.\n",
      " 0.02360026 0.         0.5667575  0.08767699 0.         0.0826975\n",
      " 0.         0.06337412]\n",
      "[0.         0.00123876 0.02816139 0.0187049  0.01790817 0.\n",
      " 0.00162798 0.01131408 0.00429358 0.00297809 0.00242774 0.\n",
      " 0.01665764 0.06249449 0.61011324 0.12720941 0.         0.03663054\n",
      " 0.00228644 0.03864743]\n",
      "There are 546 documents in the newsgroup talk.politics.guns\n",
      "[5, 39, 67, 81, 127, 161, 198, 200, 212, 225]\n",
      "[0.         0.         0.         0.         0.         0.\n",
      " 0.         0.         0.         0.         0.         0.\n",
      " 0.0473898  0.0606843  0.6541307  0.         0.         0.21110478\n",
      " 0.         0.        ]\n",
      "[0.         0.00122932 0.09879303 0.02639607 0.04726785 0.\n",
      " 0.         0.00443379 0.00113485 0.00135613 0.00408091 0.\n",
      " 0.08274435 0.05188533 0.08271798 0.17851007 0.00838786 0.37896366\n",
      " 0.00107886 0.00665461]\n",
      "There are 564 documents in the newsgroup talk.politics.mideast\n",
      "[33, 54, 70, 91, 104, 133, 152, 160, 202, 219]\n"
     ]
    },
    {
     "name": "stdout",
     "output_type": "stream",
     "text": [
      "[0.         0.         0.64364278 0.         0.         0.\n",
      " 0.         0.33184671 0.         0.         0.         0.\n",
      " 0.         0.         0.         0.01514043 0.         0.\n",
      " 0.         0.        ]\n",
      "[0.         0.         0.4192294  0.         0.005849   0.00434265\n",
      " 0.         0.03507341 0.0152598  0.01109994 0.         0.00189364\n",
      " 0.02790087 0.17635546 0.10898338 0.10547102 0.03183107 0.03403053\n",
      " 0.         0.00583268]\n",
      "There are 465 documents in the newsgroup talk.politics.misc\n",
      "[34, 96, 110, 170, 250, 253, 261, 311, 331, 347]\n",
      "[0.         0.         0.33772469 0.         0.         0.\n",
      " 0.         0.         0.         0.         0.         0.\n",
      " 0.         0.         0.58721042 0.         0.         0.\n",
      " 0.         0.        ]\n",
      "[0.         0.0414893  0.04812023 0.07202858 0.01534843 0.03540508\n",
      " 0.00163043 0.00909864 0.01652019 0.         0.00562434 0.\n",
      " 0.03435531 0.15559566 0.25506916 0.11985156 0.         0.12175806\n",
      " 0.00703967 0.02568427]\n",
      "There are 377 documents in the newsgroup talk.religion.misc\n",
      "[11, 157, 316, 317, 319, 340, 352, 390, 408, 487]\n",
      "[0.         0.         0.         0.03934724 0.15686038 0.\n",
      " 0.         0.         0.         0.         0.         0.\n",
      " 0.         0.         0.64981687 0.11393156 0.         0.\n",
      " 0.         0.03593649]\n",
      "[0.00666711 0.04124874 0.0379442  0.09289891 0.0346372  0.00666711\n",
      " 0.00666711 0.00666711 0.00666711 0.00984014 0.00666711 0.00666711\n",
      " 0.01783025 0.04006248 0.45493193 0.06125547 0.03220264 0.05330144\n",
      " 0.00666711 0.03683347]\n",
      "[[0.00266747 0.00266747 0.11974785 0.00468508 0.0037443  0.00266747\n",
      "  0.00266747 0.00266747 0.00266747 0.00266747 0.00583608 0.00266747\n",
      "  0.02236418 0.10754889 0.44652761 0.19461102 0.00266747 0.01667861\n",
      "  0.0253962  0.01009237]\n",
      " [0.         0.02643693 0.         0.44425918 0.04129027 0.\n",
      "  0.         0.03353375 0.11288394 0.         0.00103271 0.\n",
      "  0.03248186 0.00591076 0.         0.13715185 0.         0.03520573\n",
      "  0.00503734 0.08269214]\n",
      " [0.0023313  0.03749282 0.00119065 0.57130223 0.01710532 0.\n",
      "  0.00290751 0.03035552 0.07131269 0.03292063 0.00210453 0.\n",
      "  0.04561336 0.02804325 0.02151054 0.06296243 0.         0.00763989\n",
      "  0.02194976 0.01414476]\n",
      " [0.01003183 0.01748646 0.00125036 0.57670846 0.15064272 0.00125036\n",
      "  0.00125036 0.00125036 0.00582588 0.00439182 0.00297705 0.00362894\n",
      "  0.0699141  0.02902914 0.00579842 0.024326   0.02624541 0.00125036\n",
      "  0.00125036 0.04804712]\n",
      " [0.005      0.04713754 0.005      0.39320626 0.0357621  0.005\n",
      "  0.005      0.005      0.005      0.005      0.01023703 0.005\n",
      "  0.07638941 0.00769447 0.02587454 0.1628514  0.005      0.01188775\n",
      "  0.05508586 0.07972926]\n",
      " [0.         0.32967693 0.01794391 0.28800569 0.         0.00300574\n",
      "  0.01160572 0.00327947 0.02057041 0.         0.00690201 0.\n",
      "  0.01902103 0.         0.         0.10841988 0.         0.\n",
      "  0.11772098 0.03926356]\n",
      " [0.         0.02135673 0.         0.1865316  0.0626675  0.01838807\n",
      "  0.00273426 0.00393388 0.01090984 0.         0.06220935 0.\n",
      "  0.46916934 0.01024348 0.01298048 0.02181676 0.         0.01255709\n",
      "  0.01718775 0.0607471 ]\n",
      " [0.         0.         0.02111686 0.01948119 0.00956231 0.00666367\n",
      "  0.         0.01521182 0.01675278 0.         0.01552289 0.\n",
      "  0.53209872 0.03741107 0.03004872 0.16140637 0.02769912 0.02741912\n",
      "  0.         0.04900646]\n",
      " [0.00222912 0.01255957 0.07252133 0.00150868 0.00431796 0.00917672\n",
      "  0.00255432 0.00672627 0.18772988 0.00447203 0.00619078 0.\n",
      "  0.25169105 0.00953392 0.00781496 0.34701419 0.         0.04373879\n",
      "  0.         0.00793777]\n",
      " [0.005      0.03961779 0.03675768 0.05119453 0.03171759 0.005\n",
      "  0.04349466 0.005      0.005      0.00670645 0.2867761  0.00967067\n",
      "  0.00921245 0.05378052 0.03469883 0.20427652 0.06604415 0.0306469\n",
      "  0.02984756 0.005     ]\n",
      " [0.         0.         0.014731   0.02423703 0.01605166 0.00495581\n",
      "  0.04460111 0.02331434 0.00346284 0.         0.23868273 0.02403618\n",
      "  0.02323496 0.01567498 0.0268217  0.46294191 0.0236625  0.\n",
      "  0.         0.00211162]\n",
      " [0.005      0.03926921 0.00704634 0.08566017 0.25930246 0.005\n",
      "  0.00687823 0.0156823  0.00912845 0.005      0.00747892 0.005\n",
      "  0.10042277 0.14149657 0.04298595 0.06576673 0.0082277  0.0478793\n",
      "  0.005      0.12533417]\n",
      " [0.         0.02408009 0.01016699 0.2856004  0.02996734 0.\n",
      "  0.00403386 0.06002265 0.         0.00770287 0.00866702 0.01027585\n",
      "  0.20764115 0.         0.         0.20141728 0.         0.03324448\n",
      "  0.00954258 0.07035684]\n",
      " [0.         0.02294398 0.02536935 0.03928426 0.00287593 0.\n",
      "  0.020155   0.00652685 0.00282589 0.00129613 0.01593032 0.04117762\n",
      "  0.03709122 0.07344563 0.01170636 0.52014995 0.01692808 0.01955495\n",
      "  0.04516886 0.07723702]\n",
      " [0.01671443 0.03805378 0.0106098  0.07319907 0.03183121 0.005\n",
      "  0.005      0.28985022 0.02120351 0.005      0.02130644 0.018084\n",
      "  0.16560742 0.02898039 0.01726826 0.12299139 0.02610531 0.03791184\n",
      "  0.0145319  0.02032397]\n",
      " [0.         0.00123876 0.02816139 0.0187049  0.01790817 0.\n",
      "  0.00162798 0.01131408 0.00429358 0.00297809 0.00242774 0.\n",
      "  0.01665764 0.06249449 0.61011324 0.12720941 0.         0.03663054\n",
      "  0.00228644 0.03864743]\n",
      " [0.         0.00122932 0.09879303 0.02639607 0.04726785 0.\n",
      "  0.         0.00443379 0.00113485 0.00135613 0.00408091 0.\n",
      "  0.08274435 0.05188533 0.08271798 0.17851007 0.00838786 0.37896366\n",
      "  0.00107886 0.00665461]\n",
      " [0.         0.         0.4192294  0.         0.005849   0.00434265\n",
      "  0.         0.03507341 0.0152598  0.01109994 0.         0.00189364\n",
      "  0.02790087 0.17635546 0.10898338 0.10547102 0.03183107 0.03403053\n",
      "  0.         0.00583268]\n",
      " [0.         0.0414893  0.04812023 0.07202858 0.01534843 0.03540508\n",
      "  0.00163043 0.00909864 0.01652019 0.         0.00562434 0.\n",
      "  0.03435531 0.15559566 0.25506916 0.11985156 0.         0.12175806\n",
      "  0.00703967 0.02568427]\n",
      " [0.00666711 0.04124874 0.0379442  0.09289891 0.0346372  0.00666711\n",
      "  0.00666711 0.00666711 0.00666711 0.00984014 0.00666711 0.00666711\n",
      "  0.01783025 0.04006248 0.45493193 0.06125547 0.03220264 0.05330144\n",
      "  0.00666711 0.03683347]]\n"
     ]
    }
   ],
   "source": [
    "# Create a numpy array which will store a matrix of values. Rows correspond to newsgroups and columns to LDA topics.\n",
    "def get_newsgroups_mean_topics(lda_model, num_topics):\n",
    "    \n",
    "    # Create a matrix where each row corresponds to a newsgroup, and each column to a topic.\n",
    "    # In each entry, we will save the mean probability of the topic for the documents in that newsgroup.\n",
    "    mean_thetas = np.zeros((len(newsgroups_train.target_names), num_topics))\n",
    "\n",
    "    print(mean_thetas.shape)\n",
    "    for t, target_name in enumerate(newsgroups_train.target_names):\n",
    "        # Obtain the thetas for the documents with this target name\n",
    "        thetas_t_sparse = get_topic_dists_in_newsgroup(target_name, lda_model, max_num_docs=10)\n",
    "        #print(np.array(thetas_t_sparse))\n",
    "        \n",
    "        # convert the thetas to a dense vector format\n",
    "        thetas_t = []\n",
    "        for theta_d_t_sparse in thetas_t_sparse:\n",
    "            if not theta_d_t_sparse:\n",
    "                continue  # if it's empty\n",
    "            thetas_d = convert_theta_sparse_to_dense(theta_d_t_sparse, num_topics)\n",
    "            thetas_t.append(thetas_d)\n",
    "            \n",
    "        # compute the mean theta for this newsgroup and store it in mean_thetas \n",
    "        ### WRITE YOUR OWN CODE HERE\n",
    "        print(thetas_t[0])\n",
    "        #t is topic\n",
    "        #d is doc\n",
    "        \n",
    "        mean_thetas[t] = np.mean(thetas_t,axis=0)\n",
    "        \n",
    "        \n",
    "        ###########################\n",
    "\n",
    "        print(mean_thetas[t])\n",
    "    return mean_thetas\n",
    "\n",
    "print(get_newsgroups_mean_topics(lda_model, num_topics))"
   ]
  },
  {
   "cell_type": "markdown",
   "metadata": {},
   "source": [
    "We can now plot a matrix ```mean_thetas``` using ```matplotlib``` using the code below.\n",
    "\n",
    "TODO 3.6: which LDA topics are common across many newsgroups? Are there any topics that are specific to particular newsgroups? "
   ]
  },
  {
   "cell_type": "code",
   "execution_count": 69,
   "metadata": {},
   "outputs": [
    {
     "data": {
      "image/png": "[encoded data removed]",
      "text/plain": [
       "<Figure size 2000x1000 with 1 Axes>"
      ]
     },
     "metadata": {},
     "output_type": "display_data"
    }
   ],
   "source": [
    "from IPython.display import clear_output\n",
    "\n",
    "def plot_newsgroup_topic_matrix(model, num_topics):\n",
    "    # Run the function we defined above to get the mean topic distributions:\n",
    "    mean_thetas = get_newsgroups_mean_topics(model, num_topics)\n",
    "    \n",
    "    print(f'mean_thetas is a matrix of shape {mean_thetas.shape}')\n",
    "\n",
    "    # Create a new figure\n",
    "    plt.figure(figsize=(20,10))\n",
    "    clear_output()\n",
    "\n",
    "    # Plot the matrix as a 2-D grid, where colours represent the values.\n",
    "    plt.imshow(mean_thetas)\n",
    "\n",
    "    # Change the labels on the axes\n",
    "    plt.yticks(range(len(newsgroups_train.target_names)), newsgroups_train.target_names )\n",
    "    plt.xticks(range(num_topics))\n",
    "\n",
    "    plt.show()\n",
    "    \n",
    "plot_newsgroup_topic_matrix(lda_model, num_topics)"
   ]
  },
  {
   "cell_type": "markdown",
   "metadata": {
    "tags": []
   },
   "source": [
    "# 4. Cosine Similarity and TF-IDF"
   ]
  },
  {
   "cell_type": "markdown",
   "metadata": {},
   "source": [
    "For many tasks it is useful to compute similarity between documents, for example, if we want cluster documents into groups or to retrieve some documents that are similar to the one we are currently reading. In order to compute similarity or distance, we need to represent documents as numerical vectors. The code we have run so far produces bag-of-words vectors for each document, where each entry in vector is the count of word in the vocabulary.\n",
    "\n",
    "Let's take a document from the 'rec.autos' newsgroup as a 'query' document and compare it to two others using cosine similarity. We'll take another one from 'rec.autos' and one from 'misc.forsale'. First let's show the documents and their bag of words vectors:"
   ]
  },
  {
   "cell_type": "code",
   "execution_count": 58,
   "metadata": {},
   "outputs": [
    {
     "name": "stdout",
     "output_type": "stream",
     "text": [
      "There are 594 documents in the newsgroup rec.autos\n",
      "From article <1993Apr5.200048.23421@ucsu.Colorado.EDU>, by lorenzo@rintintin.Colorado.EDU (Eric Lorenzo):\n",
      "\n",
      "--Let me put it like this.  The only similarity between the three models\n",
      "  is the \"300\", or 3-liter engine displacement.  Actually, the SC300 (the\n",
      "  coupe) and the GS300 (the funky-looking new sedan) share the same 3.0\n",
      "  liter inline-six, and the ES300 (popular small sedan) uses 3.0 V6 shared\n",
      "  with the Camry.  The SC300 is a luxury/sports coupe, the GS300 is the new\n",
      "  luxury sedan, and the ES300 is the base executive sedan.  All three look\n",
      "  completely different.\n",
      "\n",
      "--Aamir Qazi\n",
      "--\n",
      "engine: 1\n",
      "funky: 1\n",
      "look: 2\n",
      "model: 1\n",
      "small: 1\n",
      "sport: 1\n",
      "base: 1\n",
      "share: 2\n",
      "actually: 1\n",
      "edu: 2\n",
      "like: 1\n",
      "new: 2\n",
      "use: 1\n",
      "article: 1\n",
      "different: 1\n",
      "let: 1\n",
      "luxury: 2\n",
      "sc: 2\n",
      "apr: 1\n",
      "completely: 1\n",
      "inline: 1\n",
      "eric: 1\n",
      "executive: 1\n",
      "colorado: 2\n",
      "es: 2\n",
      "gs: 2\n",
      "popular: 1\n",
      "sedan: 4\n",
      "aamir: 1\n",
      "camry: 1\n",
      "coupe: 2\n",
      "displacement: 1\n",
      "liter: 2\n",
      "lorenzo: 2\n",
      "qazi: 1\n",
      "rintintin: 1\n",
      "similarity: 1\n",
      "ucsu: 1\n"
     ]
    }
   ],
   "source": [
    "# get our first document\n",
    "doc_idxs = get_document_ids_in_newsgroup('rec.autos', newsgroups_train)\n",
    "doc_idx_0 = doc_idxs[19]\n",
    "print(newsgroups_train.data[doc_idx_0].strip())\n",
    "query_doc = bow_corpus[doc_idx_0]\n",
    "# show the bag of words vector in sparse format. In each pair of numbers, the first is the word ID and the second is the word count.\n",
    "for idx, count in query_doc:\n",
    "    print(f'{dictionary[idx]}: {count}')"
   ]
  },
  {
   "cell_type": "code",
   "execution_count": 59,
   "metadata": {},
   "outputs": [
    {
     "name": "stdout",
     "output_type": "stream",
     "text": [
      "Bzzt.\n",
      "The manta was a two-door sedan in the US.\n",
      "It had a 1900 engine.\n",
      "Was sometimes referred to as an Opel 1900.\n",
      "Manta's are also ve hot and fun cars too.\n",
      "door: 1\n",
      "engine: 1\n",
      "ve: 1\n",
      "cars: 1\n",
      "hot: 1\n",
      "refer: 1\n",
      "fun: 1\n",
      "bzzt: 1\n",
      "manta: 2\n",
      "opel: 1\n",
      "sedan: 1\n"
     ]
    }
   ],
   "source": [
    "# get a comparison document from the same newsgroup\n",
    "doc_idx_1 = doc_idxs[17]\n",
    "comparison_doc_1 = bow_corpus[doc_idx_1]\n",
    "print(newsgroups_train.data[doc_idx_1].strip())\n",
    "# show the bag of words vector in sparse format. In each pair of numbers, the first is the word ID and the second is the word count.\n",
    "for idx, count in comparison_doc_1:\n",
    "    print(f'{dictionary[idx]}: {count}')"
   ]
  },
  {
   "cell_type": "code",
   "execution_count": 60,
   "metadata": {},
   "outputs": [
    {
     "name": "stdout",
     "output_type": "stream",
     "text": [
      "There are 585 documents in the newsgroup misc.forsale\n",
      "The front covers should be available from Sony.  Check with a local car\n",
      "stereo shop.  You will probably (definitely) have to provide the units \n",
      "serial number and hopefully you had registered the warranty card.  I \n",
      "don't know the cost, but replacements have to be available to people\n",
      "who damage the face cover, so it stands to reason that it can be replaced.\n",
      "\n",
      "As to deterring theft:\n",
      "\n",
      "When I worked for a stereo shop, we referred the customer to a Sony 800\n",
      "number.  We would not sell the face, nor did we have them available.  Most\n",
      "people who came in asking for the face cover (or a pullout sleave for that\n",
      "matter) would look very disheartened to find that they acquired a deck\n",
      "they couldn't use.  If theft occurs with these decks, notify Sony.  Serial\n",
      "numbers do catch theives.\n",
      "car: 1\n",
      "know: 1\n",
      "look: 1\n",
      "card: 1\n",
      "number: 3\n",
      "hopefully: 1\n",
      "people: 2\n",
      "probably: 1\n",
      "use: 1\n",
      "check: 1\n",
      "couldn: 1\n",
      "available: 3\n",
      "work: 1\n",
      "sell: 1\n",
      "shop: 2\n",
      "come: 1\n",
      "cost: 1\n",
      "occur: 1\n",
      "provide: 1\n",
      "ask: 1\n",
      "deck: 2\n",
      "reason: 1\n",
      "cover: 3\n",
      "theft: 2\n",
      "matter: 1\n",
      "definitely: 1\n",
      "acquire: 1\n",
      "catch: 1\n",
      "customer: 1\n",
      "damage: 1\n",
      "deter: 1\n",
      "dishearten: 1\n",
      "face: 3\n",
      "local: 1\n",
      "notify: 1\n",
      "pullout: 1\n",
      "refer: 1\n",
      "register: 1\n",
      "replace: 1\n",
      "replacements: 1\n",
      "serial: 2\n",
      "sleave: 1\n",
      "sony: 3\n",
      "stand: 1\n",
      "stereo: 2\n",
      "theives: 1\n",
      "units: 1\n",
      "warranty: 1\n"
     ]
    }
   ],
   "source": [
    "# get another comparison document from another newsgroup\n",
    "doc_idxs = get_document_ids_in_newsgroup('misc.forsale', newsgroups_train)\n",
    "doc_idx_2 = doc_idxs[2]\n",
    "comparison_doc_2 = bow_corpus[doc_idx_2]\n",
    "print(newsgroups_train.data[doc_idx_2].strip())\n",
    "\n",
    "# show the bag of words vector in sparse format. In each pair of numbers, the first is the word ID and the second is the word count.\n",
    "for idx, count in comparison_doc_2:\n",
    "    print(f'{dictionary[idx]}: {count}')"
   ]
  },
  {
   "cell_type": "markdown",
   "metadata": {},
   "source": [
    "To compute the similarity between the documents, we use cosine similarity:\n",
    "\n",
    "$$similarity<v_1, v_2> = \\frac{v_1 \\cdot v_2}{|| v_1 || \\cdot || v_2 ||}$$\n",
    "\n",
    "\n",
    "TODO 4.1: Which document do you expect to have higher similarity to the query? Run the code below and see if it meets your expectations.\n",
    "\n",
    "Expect the 1st document to be more similar"
   ]
  },
  {
   "cell_type": "code",
   "execution_count": 61,
   "metadata": {},
   "outputs": [
    {
     "name": "stdout",
     "output_type": "stream",
     "text": [
      "The cosine similarity between documents 463 and 445 is: 0.1416481749175184\n",
      "The cosine similarity between documents 463 and 30 is: 0.030886828649365476\n"
     ]
    }
   ],
   "source": [
    "from gensim.matutils import cossim\n",
    "\n",
    "cos_sim1 = cossim(query_doc, comparison_doc_1)\n",
    "print(f'The cosine similarity between documents {doc_idx_0} and {doc_idx_1} is: {cos_sim1}')\n",
    "\n",
    "cos_sim2 = cossim(query_doc, comparison_doc_2)\n",
    "print(f'The cosine similarity between documents {doc_idx_0} and {doc_idx_2} is: {cos_sim2}')"
   ]
  },
  {
   "cell_type": "markdown",
   "metadata": {},
   "source": [
    "The first and last documents share some common words, despite discussing different topics. We can alter our vector representations to focus more on keywords by using TF-IDF instead of bag of words."
   ]
  },
  {
   "cell_type": "markdown",
   "metadata": {},
   "source": [
    "TF-IDF is computed from two terms. First, the log of the term frequency:\n",
    "$$ tf(t,d) = count(t,d)$$\n",
    "\n",
    "We multiple the log term frequency by the inverse document frequencey, which is computed like this:\n",
    "\n",
    "$$ idf(t) = \\log_{2}\\frac{N}{df(t)}$$\n",
    "\n",
    "Gensim provides the TfidfModel class to compute TF-IDF vectors from our existing corpus object:"
   ]
  },
  {
   "cell_type": "code",
   "execution_count": 62,
   "metadata": {},
   "outputs": [],
   "source": [
    "from gensim.models import TfidfModel\n",
    "\n",
    "tfidf_model = TfidfModel(bow_corpus)"
   ]
  },
  {
   "cell_type": "markdown",
   "metadata": {},
   "source": [
    "TODO 4.2: Apply the tfidf_model to `query_doc`, `comparison_doc_1` and `comparison_doc_2` to obtain a TF-IDF vector for each document. Print the results. Hint: you can apply the model in the same was a you applied lda_model to a bow_vector for an unseen test document."
   ]
  },
  {
   "cell_type": "code",
   "execution_count": 89,
   "metadata": {},
   "outputs": [
    {
     "name": "stdout",
     "output_type": "stream",
     "text": [
      "topic_distribution_query\n",
      "Index: 8345\n",
      "Probability: 0.501309433082274\t\n",
      "Index: 8545\n",
      "Probability: 0.30495411379309023\t\n",
      "Index: 8542\n",
      "Probability: 0.2735781334056121\t\n",
      "Index: 8544\n",
      "Probability: 0.2536187490774376\t\n",
      "Index: 939\n",
      "Probability: 0.24535560099580858\t\n",
      "Index: 6831\n",
      "Probability: 0.2184736905773415\t\n",
      "Index: 6992\n",
      "Probability: 0.21293643505986085\t\n",
      "Index: 1004\n",
      "Probability: 0.20228338436178492\t\n",
      "Index: 4323\n",
      "Probability: 0.17779137655976476\t\n",
      "Index: 8547\n",
      "Probability: 0.15247705689654512\t\n",
      "Index: 8540\n",
      "Probability: 0.14715053154750715\t\n",
      "Index: 8546\n",
      "Probability: 0.14715053154750715\t\n",
      "Index: 8543\n",
      "Probability: 0.1430189575066927\t\n",
      "Index: 62\n",
      "Probability: 0.14237756160123438\t\n",
      "Index: 12\n",
      "Probability: 0.13964321571763197\t\n",
      "Index: 8549\n",
      "Probability: 0.13964321571763197\t\n",
      "Index: 3427\n",
      "Probability: 0.134316690368594\t\n",
      "Index: 8541\n",
      "Probability: 0.13018511632777952\t\n",
      "Index: 8548\n",
      "Probability: 0.1253273582705685\t\n",
      "Index: 3624\n",
      "Probability: 0.10406024237029715\t\n",
      "Index: 3568\n",
      "Probability: 0.09078022733619136\t\n",
      "Index: 89\n",
      "Probability: 0.0905859614876229\t\n",
      "Index: 7439\n",
      "Probability: 0.08448746611867301\t\n",
      "Index: 26\n",
      "Probability: 0.083126544585797\t\n",
      "Index: 10\n",
      "Probability: 0.08080053517210412\t\n",
      "Index: 124\n",
      "Probability: 0.07767016481120734\t\n",
      "Index: 1626\n",
      "Probability: 0.07606184710096922\t\n",
      "Index: 17\n",
      "Probability: 0.07308708158574487\t\n",
      "Index: 1896\n",
      "Probability: 0.07253738709047512\t\n",
      "Index: 19\n",
      "Probability: 0.06561525420274841\t\n",
      "Index: 24\n",
      "Probability: 0.05995207741528221\t\n",
      "Index: 177\n",
      "Probability: 0.05775276235158468\t\n",
      "Index: 418\n",
      "Probability: 0.05286654107735494\t\n",
      "Index: 73\n",
      "Probability: 0.05197807946943947\t\n",
      "Index: 34\n",
      "Probability: 0.051602393440981144\t\n",
      "Index: 568\n",
      "Probability: 0.04666511349048709\t\n",
      "Index: 163\n",
      "Probability: 0.033994764049569255\t\n",
      "Index: 114\n",
      "Probability: 0.027284379975614222\t\n",
      "topic_distribution_1\n",
      "Index: 8343\n",
      "Probability: 0.6731330677008447\t\n",
      "Index: 8342\n",
      "Probability: 0.3588242805432443\t\n",
      "Index: 8344\n",
      "Probability: 0.3286224001990145\t\n",
      "Index: 8345\n",
      "Probability: 0.29493289075178314\t\n",
      "Index: 4075\n",
      "Probability: 0.2003270017270296\t\n",
      "Index: 7\n",
      "Probability: 0.19845666725741914\t\n",
      "Index: 1239\n",
      "Probability: 0.1920023232724704\t\n",
      "Index: 10\n",
      "Probability: 0.19014791136945342\t\n",
      "Index: 832\n",
      "Probability: 0.18115739905860273\t\n",
      "Index: 1362\n",
      "Probability: 0.16825478691318932\t\n",
      "Index: 164\n",
      "Probability: 0.09743799878678223\t\n",
      "topic_distribution_2\n",
      "Index: 1368\n",
      "Probability: 0.350232127711554\t\n",
      "Index: 1032\n",
      "Probability: 0.27846996702259624\t\n",
      "Index: 670\n",
      "Probability: 0.26122564831879774\t\n",
      "Index: 1358\n",
      "Probability: 0.24882864232339186\t\n",
      "Index: 854\n",
      "Probability: 0.23805975371707644\t\n",
      "Index: 1370\n",
      "Probability: 0.22912945726583359\t\n",
      "Index: 382\n",
      "Probability: 0.21306110262473843\t\n",
      "Index: 1367\n",
      "Probability: 0.2066360935699755\t\n",
      "Index: 255\n",
      "Probability: 0.19707627591077612\t\n",
      "Index: 1371\n",
      "Probability: 0.19129086608046572\t\n",
      "Index: 1366\n",
      "Probability: 0.19025120197060877\t\n",
      "Index: 1357\n",
      "Probability: 0.17594563859095594\t\n",
      "Index: 1361\n",
      "Probability: 0.17594563859095594\t\n",
      "Index: 55\n",
      "Probability: 0.17083537714410363\t\n",
      "Index: 1365\n",
      "Probability: 0.15355032839758315\t\n",
      "Index: 1356\n",
      "Probability: 0.14145067951723603\t\n",
      "Index: 1360\n",
      "Probability: 0.13627880096553768\t\n",
      "Index: 1354\n",
      "Probability: 0.127302418319139\t\n",
      "Index: 1373\n",
      "Probability: 0.11873985115288692\t\n",
      "Index: 1352\n",
      "Probability: 0.1163655977379345\t\n",
      "Index: 1372\n",
      "Probability: 0.11226682501821865\t\n",
      "Index: 109\n",
      "Probability: 0.10751464592905377\t\n",
      "Index: 1363\n",
      "Probability: 0.1027767654153394\t\n",
      "Index: 1191\n",
      "Probability: 0.10217568368916742\t\n",
      "Index: 1355\n",
      "Probability: 0.09630660010429729\t\n",
      "Index: 1353\n",
      "Probability: 0.09455791645569589\t\n",
      "Index: 1362\n",
      "Probability: 0.0854883190037923\t\n",
      "Index: 232\n",
      "Probability: 0.08530305864569727\t\n",
      "Index: 592\n",
      "Probability: 0.08484657889410697\t\n",
      "Index: 1364\n",
      "Probability: 0.08484657889410697\t\n",
      "Index: 128\n",
      "Probability: 0.08073309973088386\t\n",
      "Index: 1369\n",
      "Probability: 0.07838755680370249\t\n",
      "Index: 5\n",
      "Probability: 0.07416081835397145\t\n",
      "Index: 1359\n",
      "Probability: 0.07344749695239142\t\n",
      "Index: 525\n",
      "Probability: 0.07223916593608821\t\n",
      "Index: 1109\n",
      "Probability: 0.07198498996838885\t\n",
      "Index: 181\n",
      "Probability: 0.0696373097659899\t\n",
      "Index: 37\n",
      "Probability: 0.06801616260241304\t\n",
      "Index: 381\n",
      "Probability: 0.06730933407461046\t\n",
      "Index: 611\n",
      "Probability: 0.06698435967272652\t\n",
      "Index: 786\n",
      "Probability: 0.060797725599772506\t\n",
      "Index: 137\n",
      "Probability: 0.058759896536722304\t\n",
      "Index: 655\n",
      "Probability: 0.05686838912625809\t\n",
      "Index: 410\n",
      "Probability: 0.045422025313159045\t\n",
      "Index: 17\n",
      "Probability: 0.043694552466504576\t\n",
      "Index: 349\n",
      "Probability: 0.04273006027155491\t\n",
      "Index: 163\n",
      "Probability: 0.04064701912081989\t\n",
      "Index: 15\n",
      "Probability: 0.031515735754678136\t\n"
     ]
    }
   ],
   "source": [
    "#### WRITE YOUR OWN CODE HERE\n",
    "#test_document_idx = 0\n",
    "#unseen_document = newsgroups_test.data[test_document_idx]\n",
    "#print(unseen_document)\n",
    "\n",
    "#print(f' This document is from newsgroup {newsgroups_test.target_names[newsgroups_test.target[test_document_idx]]}')\n",
    "\n",
    "# Data preprocessing step for the unseen document - It is the same preprocessing we have performed for the training data\n",
    "#bow_vector = dictionary.doc2bow(preprocess(unseen_document))\n",
    "\n",
    "#for idx, count in bow_vector:\n",
    "    #print(f'{dictionary[idx]}: {count}')\n",
    "    \n",
    "#topic_distribution = lda_model[bow_vector]\n",
    "#print(topic_distribution)\n",
    "#for index, probability in sorted(topic_distribution, key=lambda tup: -1*tup[1]):\n",
    "    #print(\"Index: {}\\nProbability: {}\\t Topic: {}\".format(index, probability, lda_model.print_topic(index, 5)))\n",
    "\n",
    "\n",
    "###################################\n",
    "topic_distribution_query = tfidf_model[query_doc]\n",
    "print('topic_distribution_query')\n",
    "for index, probability in sorted(topic_distribution_query, key=lambda tup: -1*tup[1]):\n",
    "    print(\"Index: {}\\nProbability: {}\\t\".format(index, probability))\n",
    "    \n",
    "topic_distribution_1 = tfidf_model[comparison_doc_1]\n",
    "print('topic_distribution_1')\n",
    "for index, probability in sorted(topic_distribution_1, key=lambda tup: -1*tup[1]):\n",
    "    print(\"Index: {}\\nProbability: {}\\t\".format(index, probability))\n",
    "    \n",
    "topic_distribution_2 = tfidf_model[comparison_doc_2]\n",
    "print('topic_distribution_2')\n",
    "for index, probability in sorted(topic_distribution_2, key=lambda tup: -1*tup[1]):\n",
    "    print(\"Index: {}\\nProbability: {}\\t\".format(index, probability))\n",
    "#####"
   ]
  },
  {
   "cell_type": "markdown",
   "metadata": {},
   "source": [
    "TODO 4.3: Compute the cosine similarity between the query document and the two comparison documents using the TF-IDF vectors. What do you notice about the results?"
   ]
  },
  {
   "cell_type": "code",
   "execution_count": 90,
   "metadata": {},
   "outputs": [
    {
     "name": "stdout",
     "output_type": "stream",
     "text": [
      "The cosine similarity between documents 463 and 445 is: 0.16321669326060234\n",
      "The cosine similarity between documents 463 and 30 is: 0.004575293145302632\n"
     ]
    }
   ],
   "source": [
    "### WRITE YOUR OWN CODE HERE\n",
    "\n",
    "cos_sim1 = cossim(topic_distribution_query, topic_distribution_1)\n",
    "print(f'The cosine similarity between documents {doc_idx_0} and {doc_idx_1} is: {cos_sim1}')\n",
    "\n",
    "cos_sim2 = cossim(topic_distribution_query,topic_distribution_2)\n",
    "print(f'The cosine similarity between documents {doc_idx_0} and {doc_idx_2} is: {cos_sim2}')\n",
    "\n",
    "######"
   ]
  },
  {
   "cell_type": "markdown",
   "metadata": {},
   "source": [
    "# 5. Optional: Hierarchical Dirichlet Process (HDP)\n",
    "\n",
    "This section is optional if you want to learn more about HDP as an alternative to LDA. \n",
    "\n",
    "There is an implementation of the [HDP model provided by gensim](https://radimrehurek.com/gensim/models/hdpmodel.html). Instead of passing in a fixed number of topics, HDP will try to learn a good number of topics to fit the data.\n",
    "\n",
    "OPTIONAL TODO 5.1: Refer to the documentation for HDP and train an HDP model. Hint: reuse the ```bow_corpus``` and ```dictionary``` as arguments in the same way that you did to construct the ```LdaModel``` object.\n",
    "\n",
    "Use the trained HDP model to obtain mean topic distributions for each newsgroup in the test set with ```get_newsgroups_mean_topics()```. Plot the mean topic matrix as above and compare it to the results from LDA. Set alpha and gamma to 0.01."
   ]
  },
  {
   "cell_type": "code",
   "execution_count": null,
   "metadata": {},
   "outputs": [],
   "source": [
    "from gensim.models import HdpModel\n",
    "\n",
    "### WRITE YOUR OWN CODE HERE\n",
    "\n",
    "\n",
    "###\n",
    "\n",
    "# print the word-topic distributions for \n",
    "for idx, topic in hdp_model.print_topics(20):\n",
    "    print(\"Topic: {} \\nWords: {}\".format(idx, topic ))\n",
    "    print(\"\\n\")"
   ]
  },
  {
   "cell_type": "markdown",
   "metadata": {},
   "source": [
    "The previous cell shows the first 20 topics. HDP learns the number of topics that are needed to model the dataset. It produces a global distribution over the topics. Topics with very low probability can be considered inactive:"
   ]
  },
  {
   "cell_type": "code",
   "execution_count": null,
   "metadata": {},
   "outputs": [],
   "source": [
    "def plot_global_topic_weights(hdp_model):\n",
    "    global_topic_weights = hdp_model.m_varphi_ss / np.sum(hdp_model.m_varphi_ss)\n",
    "\n",
    "    plt.bar(np.arange(len(global_topic_weights)), global_topic_weights)\n",
    "    plt.ylabel('Probability')\n",
    "    plt.xlabel('Topic ID')\n",
    "    \n",
    "plot_global_topic_weights(hdp_model)"
   ]
  },
  {
   "cell_type": "markdown",
   "metadata": {},
   "source": [
    "Run the code below to visualise the topics that HDP finds for each newsgroup:"
   ]
  },
  {
   "cell_type": "code",
   "execution_count": null,
   "metadata": {},
   "outputs": [],
   "source": [
    "plot_newsgroup_topic_matrix(hdp_model, 20)"
   ]
  },
  {
   "cell_type": "markdown",
   "metadata": {},
   "source": [
    "The alpha and gamma arguments to HdpModel control the 'concentration' of topics. Varying these parameters therefore affects the number of topics that HDP finds -- whether it tends towards many fine-grained topics, or few coarse-grained topics.\n",
    "\n",
    "OPTIONAL TODO 5.2: Change the values of alpha and gamma for the HDP model and see what their effect is. Hint: to see noticable differences, change the values by a factor of 10. "
   ]
  },
  {
   "cell_type": "code",
   "execution_count": null,
   "metadata": {},
   "outputs": [],
   "source": [
    "### WRITE YOUR OWN CODE HERE\n",
    "\n",
    "###\n",
    "\n",
    "# print the word-topic distributions for \n",
    "for idx, topic in hdp_model.print_topics(20):\n",
    "    print(\"Topic: {} \\nWords: {}\".format(idx, topic ))\n",
    "    print(\"\\n\")\n",
    "    \n",
    "plot_global_topic_weights(hdp_model2)\n",
    "    "
   ]
  },
  {
   "cell_type": "code",
   "execution_count": null,
   "metadata": {},
   "outputs": [],
   "source": [
    "plot_newsgroup_topic_matrix(hdp_model2, 20)"
   ]
  },
  {
   "cell_type": "code",
   "execution_count": null,
   "metadata": {},
   "outputs": [],
   "source": []
  }
 ],
 "metadata": {
  "kernelspec": {
   "display_name": "data_analytics",
   "language": "python",
   "name": "data_analytics"
  },
  "language_info": {
   "codemirror_mode": {
    "name": "ipython",
    "version": 3
   },
   "file_extension": ".py",
   "mimetype": "text/x-python",
   "name": "python",
   "nbconvert_exporter": "python",
   "pygments_lexer": "ipython3",
   "version": "3.9.13"
  }
 },
 "nbformat": 4,
 "nbformat_minor": 4
}
