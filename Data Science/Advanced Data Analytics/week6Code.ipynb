{
 "cells": [
  {
   "cell_type": "markdown",
   "metadata": {},
   "source": [
    "# Week 6 Lectorial Exercises"
   ]
  },
  {
   "cell_type": "markdown",
   "metadata": {},
   "source": [
    "Generate and print 5 integers between 0 and 10 from a numpy random number generator after setting its seed."
   ]
  },
  {
   "cell_type": "code",
   "execution_count": 4,
   "metadata": {},
   "outputs": [
    {
     "name": "stdout",
     "output_type": "stream",
     "text": [
      "[7 0 3 1 7]\n"
     ]
    }
   ],
   "source": [
    "# Code block 1\n",
    "import numpy as np\n",
    "\n",
    "rseed = 1729\n",
    "rng = np.random.default_rng(seed = rseed)\n",
    "\n",
    "# Your code here\n",
    "print(rng.integers(low=0,high=10,size=5))"
   ]
  },
  {
   "cell_type": "markdown",
   "metadata": {},
   "source": [
    "Now generate 5 more integers and print them. Now create a random number generator with the same seed as above and generate 5 integers and print them. What do you notice?\n"
   ]
  },
  {
   "cell_type": "code",
   "execution_count": 5,
   "metadata": {},
   "outputs": [
    {
     "name": "stdout",
     "output_type": "stream",
     "text": [
      "[2 0 5 5 8]\n",
      "[7 0 3 1 7]\n"
     ]
    }
   ],
   "source": [
    "# Code block 2\n",
    "print(rng.integers(low=0,high=10,size=5))\n",
    "\n",
    "rng2 = np.random.default_rng(seed = rseed)\n",
    "print(rng2.integers(low=0,high=10,size=5))"
   ]
  },
  {
   "cell_type": "markdown",
   "metadata": {},
   "source": [
    "Your answer here. The seed decides where in the sequence you start so by printing again we are at a different point in the seed."
   ]
  },
  {
   "cell_type": "markdown",
   "metadata": {},
   "source": [
    "Now let us consider the **period** of a random number generator. This is the number of integers it generates until it repeats in a cycle.\n",
    "\n",
    "Run the following code fragment and write down what you notice. Look at the code in `not_so_random` and explain why you have got your result. Note that the modulus in this random number generator is 13 so we would hope to have a period of 12 (0 is disallowed as usual)."
   ]
  },
  {
   "cell_type": "code",
   "execution_count": 10,
   "metadata": {},
   "outputs": [
    {
     "name": "stdout",
     "output_type": "stream",
     "text": [
      "[9, 1, 3, 9, 1, 3, 9, 1, 3, 9, 1, 3, 9, 1, 3, 9, 1, 3, 9, 1, 3, 9, 1, 3, 9, 1]\n",
      "[12, 10, 4, 12, 10, 4, 12, 10, 4, 12, 10, 4, 12, 10, 4, 12, 10, 4, 12, 10, 4, 12, 10, 4, 12, 10]\n",
      "[0, 0, 0, 0, 0, 0, 0, 0, 0, 0, 0, 0, 0, 0, 0, 0, 0, 0, 0, 0, 0, 0, 0, 0, 0, 0]\n",
      "[3, 9, 1, 3, 9, 1, 3, 9, 1, 3, 9, 1, 3, 9, 1, 3, 9, 1, 3, 9, 1, 3, 9, 1, 3, 9]\n"
     ]
    }
   ],
   "source": [
    "import not_so_random \n",
    "\n",
    "nsr = not_so_random.NotSoRandom()\n",
    "nsr.seed(3) \n",
    "print([nsr.random() for _ in  range(26)])\n",
    "\n",
    "nsr.seed(4)\n",
    "print([nsr.random() for _ in  range(26)])\n",
    "\n",
    "nsr.seed(13)\n",
    "print([nsr.random() for _ in  range(26)])\n",
    "\n",
    "nsr.seed(14)\n",
    "print([nsr.random() for _ in  range(26)])"
   ]
  },
  {
   "cell_type": "markdown",
   "metadata": {},
   "source": [
    "Your answer here. It repeats every 3 digits. In not_so_random the output is just the seed *3 mod 13."
   ]
  },
  {
   "cell_type": "markdown",
   "metadata": {},
   "source": [
    "Now try running the code with other seeds. What do you notice?"
   ]
  },
  {
   "cell_type": "markdown",
   "metadata": {},
   "source": [
    "Your answer here. Still repeats every 3 digits. Setting the seed equal to 13 gives an ouput of only 0s. Setting it equal to 14 is the same as setting it equal to 3 (due to the mod 13?)."
   ]
  },
  {
   "cell_type": "markdown",
   "metadata": {},
   "source": [
    "Now let us look at generating correlated data from a Gaussian distribution with two variables. This is quite easy using numpy's function `random.multivariate_normal`. (I have used a correlation matrix for the sake of simplicity, but it is not much harder to create a covariance matrix for full generality)."
   ]
  },
  {
   "cell_type": "code",
   "execution_count": 20,
   "metadata": {},
   "outputs": [],
   "source": [
    "corr = np.array([[1., -0.40],\n",
    "...                  [-0.40, 1.]])\n",
    "\n",
    "mean = np.array([2., 0.5])\n",
    "\n",
    "#Your code here: don't forget to set the seed first\n",
    "rseed = 123\n",
    "rng = np.random.default_rng(rseed)\n",
    "data = np.random.multivariate_normal(mean=mean, cov=corr, size=500)"
   ]
  },
  {
   "cell_type": "markdown",
   "metadata": {},
   "source": [
    "Now we can check on the result: compute the mean and correlation of the data and explain what you see."
   ]
  },
  {
   "cell_type": "code",
   "execution_count": 21,
   "metadata": {},
   "outputs": [
    {
     "name": "stdout",
     "output_type": "stream",
     "text": [
      "1.2847513038895881 [[ 1.  1. -1. ...  1. -1. -1.]\n",
      " [ 1.  1. -1. ...  1. -1. -1.]\n",
      " [-1. -1.  1. ... -1.  1.  1.]\n",
      " ...\n",
      " [ 1.  1. -1. ...  1. -1. -1.]\n",
      " [-1. -1.  1. ... -1.  1.  1.]\n",
      " [-1. -1.  1. ... -1.  1.  1.]]\n"
     ]
    }
   ],
   "source": [
    "# Your code here\n",
    "print(np.mean(data),np.corrcoef(data))"
   ]
  },
  {
   "cell_type": "markdown",
   "metadata": {},
   "source": [
    "Your answer here."
   ]
  }
 ],
 "metadata": {
  "kernelspec": {
   "display_name": "Python 3",
   "language": "python",
   "name": "python3"
  },
  "language_info": {
   "codemirror_mode": {
    "name": "ipython",
    "version": 3
   },
   "file_extension": ".py",
   "mimetype": "text/x-python",
   "name": "python",
   "nbconvert_exporter": "python",
   "pygments_lexer": "ipython3",
   "version": "3.7.3"
  }
 },
 "nbformat": 4,
 "nbformat_minor": 5
}
