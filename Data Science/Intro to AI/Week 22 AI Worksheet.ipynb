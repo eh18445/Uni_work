{
 "cells": [
  {
   "cell_type": "markdown",
   "id": "4b75e75a",
   "metadata": {},
   "source": [
    "# Week 22 AI Worksheet"
   ]
  },
  {
   "cell_type": "code",
   "execution_count": 1,
   "id": "31e97df5",
   "metadata": {},
   "outputs": [],
   "source": [
    "import numpy as np\n",
    "import numpy.random as random"
   ]
  },
  {
   "cell_type": "markdown",
   "id": "fbc147c5",
   "metadata": {},
   "source": [
    "Two solutions A = 0101101 and B = 1011000 are given to you as binary representation for a phenotype. Using 2 point crossover at point 1 and 3 to create 2\n",
    "new individuals A’ and B’. IMPORTANT, keep track of which child you\n",
    "call A’ and B’ !. Apply swap mutation to both A’ and B’ at points 2 and 5.\n",
    "Decode the individuals A’ and B’ into decimal values. What are the values of\n",
    "A’ and B’ ?"
   ]
  },
  {
   "cell_type": "code",
   "execution_count": 2,
   "id": "c928e32b",
   "metadata": {},
   "outputs": [
    {
     "name": "stdout",
     "output_type": "stream",
     "text": [
      "0\n",
      "0001111 15\n",
      "1101010 106\n"
     ]
    }
   ],
   "source": [
    "A = '0101101'\n",
    "B = '1011000'\n",
    "\n",
    "print(A[2])\n",
    "# first cross-over at points 1 and 3\n",
    "# 0/10/1101\n",
    "\n",
    "A2 = ''\n",
    "B2 = ''\n",
    "\n",
    "for i in range(len(A)):\n",
    "    if i >= 1 and i < 3:\n",
    "        A2 += B[i]\n",
    "        B2 += A[i]\n",
    "    else:\n",
    "        A2 += A[i]\n",
    "        B2 += B[i]\n",
    "        \n",
    "# Next do swap mutation on A2 and B2 at points 2 and 5\n",
    "\n",
    "A3 = ''\n",
    "B3 = ''\n",
    "\n",
    "for i in range(len(A2)):\n",
    "    if i == 2:\n",
    "        A3 += A2[5]\n",
    "        B3 += A2[5]\n",
    "    elif i == 5:\n",
    "        A3 += A2[2]\n",
    "        B3 += A2[2]\n",
    "    else:\n",
    "        A3 += A2[i]\n",
    "        B3 += B2[i]\n",
    "\n",
    "print(A3,int(A3,2))\n",
    "print(B3,int(B3,2))"
   ]
  },
  {
   "cell_type": "markdown",
   "id": "979c74c8",
   "metadata": {},
   "source": [
    "Given the population shown below, calculate the fitness using the given values\n",
    "of x and the fitness function $−0.3x^{3} + 2x^{2} − x + 12$ . Use fitness proportionate\n",
    "selection to calculate probability of selection of the solutions and then place\n",
    "a,b,c,d,e in the order 1,2,3,4,5 on the roulette wheel. If you draw a random\n",
    "number of 0.31 from a random number generator which individual is selected\n",
    "from the population ?\n",
    "\n",
    "Individual x\n",
    "- a 3.27\n",
    "- b -1.2\n",
    "- c 9\n",
    "- d -0.22\n",
    "- e 7.5"
   ]
  },
  {
   "cell_type": "code",
   "execution_count": 3,
   "id": "9938e0d3",
   "metadata": {},
   "outputs": [
    {
     "name": "stdout",
     "output_type": "stream",
     "text": [
      "0.3\n",
      "b\n"
     ]
    }
   ],
   "source": [
    "def fitness(x):\n",
    "    \"\"\"Function to calculate fitness\"\"\"\n",
    "    y = -0.3*x**3 + 2*x**2 - x + 12\n",
    "    return y\n",
    "\n",
    "# fitness proportional selection\n",
    "individuals = ['a','b','c','d','e']\n",
    "x = np.array([3.27,-1.2,9,-0.22,7.5])\n",
    "\n",
    "#Calculate relative fitness\n",
    "fit = []\n",
    "for i in range(len(x)):\n",
    "    fit.append(fitness(x[i]))\n",
    "    \n",
    "offset = -min(fit)\n",
    "fit_sum = 0\n",
    "for i in range(len(x)):\n",
    "    fit_sum += fit[i] + offset\n",
    "\n",
    "# Draw a random number for uniform probability distribution [0, 1)    \n",
    "#draw = random.uniform(0, 1)\n",
    "draw = 0.3\n",
    "print(draw)\n",
    "accumulated = 0\n",
    "for i in range(len(x)):\n",
    "    probability = (fit[i] + offset) / fit_sum\n",
    "    accumulated += probability\n",
    "\n",
    "    if draw <= accumulated:\n",
    "        print(individuals[i])\n",
    "        break"
   ]
  },
  {
   "cell_type": "markdown",
   "id": "dcb288f7",
   "metadata": {},
   "source": [
    "Implement a evolutionary algorithm to solve the Ackley function. The function\n",
    "and its form is given in the figure below. Set $a=20$, $b=0.2$, $c = 2\\pi$ and $d=2$. \n",
    "Limit the values of $−20 ≤ x_1 ≤ 20$ and $−20 ≤ x_2 ≤ 20$. Use real value\n",
    "representation and 100000 fitness evaluations as stopping criteria. You can use\n",
    "any mutation and/or re-combintaion and/ or selection technique of your choice.\n",
    "\n",
    "$$f(\\mathbf{x}) = -a\\cdot exp\\left(-b\\sqrt{\\frac{1}{d}\\sum_{i=1}^{d}x_{i}^{2}}\\right)-exp\\left(\\frac{1}{d}\\sum_{i=1}^{d}cos(cx_{i})\\right)+a+exp(1)$$\n",
    "\n",
    "Run the algorithm 30 times and plot the mean best fitness as a function of time\n",
    "to show the performance of your algorithm."
   ]
  },
  {
   "cell_type": "code",
   "execution_count": 4,
   "id": "34189258",
   "metadata": {},
   "outputs": [
    {
     "name": "stdout",
     "output_type": "stream",
     "text": [
      "[[18.176263728080755, -0.30149193897633353, 20.959728632774972], [4.174846654639627, -10.986420336251035, 19.312052816404393]]\n",
      "20.959728632774972\n"
     ]
    }
   ],
   "source": [
    "def Ackley(x):\n",
    "    \"\"\"A function to calculate the Ackley function\"\"\"\n",
    "    sum_sqr = 0\n",
    "    sum_cos = 0\n",
    "    for i in range(len(x)):\n",
    "        sum_sqr += x[i]**2\n",
    "        sum_cos += np.cos(c*x[i])\n",
    "    f = -a * np.exp(-2*np.sqrt((1/d)*sum_sqr)) - np.exp((1/d)*sum_cos) + a + np.exp(1)\n",
    "    return f\n",
    "\n",
    "a = 20\n",
    "b = 0.2\n",
    "c = 2*np.pi\n",
    "d = 2\n",
    "\n",
    "def gen_population(size, x_limits):\n",
    "    \"\"\"Generates a random population\"\"\"\n",
    "    x_lower_lim, x_upper_lim= x_limits\n",
    "\n",
    "    population = []\n",
    "    \n",
    "    #Individual = [x1,x2,fitness]\n",
    "    \n",
    "    for i in range(size):\n",
    "        individual = [\n",
    "            random.uniform(x_lower_lim, x_upper_lim), random.uniform(x_lower_lim, x_upper_lim), 0\n",
    "        ]\n",
    "        individual[2] = Ackley(individual)\n",
    "        population.append(individual)\n",
    "\n",
    "    return population\n",
    "\n",
    "population = gen_population(2,(-20,20))\n",
    "print(population)\n",
    "                            \n",
    "def mutation(population,sd):\n",
    "    \"\"\"Mutates the population using non_uniform mutation\"\"\"\n",
    "    mu = 0\n",
    "    \n",
    "    # Draw a random number from a gaussian distribution and add to number\n",
    "    for i in range(len(population)):\n",
    "        population[i] += random.normal(mu,sd)\n",
    "        \n",
    "    return population\n",
    "print(population[0][2])\n",
    "\n",
    "def recombination(population,alpha=0.5):\n",
    "    \"\"\"Perfom recombination using simple arithmetic\"\"\"\n",
    "    #Pick a pair of numbers and perform formula\n",
    "    k = random.undform(0,1)\n",
    "    \n",
    "    for i in range(2):\n",
    "        if k == i:\n",
    "            population[0][i] = alpha*popuation[1][i] + (alpha-1)*population[0][i]\n",
    "            population[1][i] = alpha*popuation[0][i] + (alpha-1)*population[1][i]\n",
    "    \n",
    "    # recalcuate fitness\n",
    "    for i in range(2):\n",
    "        population[i][2] = Ackley([population[i][0],population[i][1]])\n",
    "    return population\n",
    "\n",
    "def parent_selection(parents,children):\n",
    "    \"\"\"From parents and children select using fitness proportional\"\"\"\n",
    "    parents.append(children)\n",
    "    \n",
    "    #fitness is the smallest value of the Ackley function\n",
    "    \n",
    "    return"
   ]
  },
  {
   "cell_type": "code",
   "execution_count": null,
   "id": "a0af676e",
   "metadata": {},
   "outputs": [],
   "source": []
  }
 ],
 "metadata": {
  "kernelspec": {
   "display_name": "Python 3 (ipykernel)",
   "language": "python",
   "name": "python3"
  },
  "language_info": {
   "codemirror_mode": {
    "name": "ipython",
    "version": 3
   },
   "file_extension": ".py",
   "mimetype": "text/x-python",
   "name": "python",
   "nbconvert_exporter": "python",
   "pygments_lexer": "ipython3",
   "version": "3.7.16"
  }
 },
 "nbformat": 4,
 "nbformat_minor": 5
}
